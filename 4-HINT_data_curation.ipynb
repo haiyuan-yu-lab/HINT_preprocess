{
 "cells": [
  {
   "cell_type": "code",
   "execution_count": 1,
   "id": "8a862bab-579d-4ed4-bdb0-db2861205624",
   "metadata": {},
   "outputs": [],
   "source": [
    "import string\n",
    "import os, sys\n",
    "from pathlib import Path\n",
    "import urllib\n",
    "# import urllib2\n",
    "import datetime\n",
    "import time\n",
    "import shutil\n",
    "from glob import glob\n",
    "import gzip\n",
    "import numpy as np\n",
    "import pandas as pd\n",
    "import re\n",
    "\n",
    "import json\n",
    "import pickle\n",
    "\n",
    "from collections import defaultdict"
   ]
  },
  {
   "cell_type": "code",
   "execution_count": 175,
   "id": "7d1a2feb-ea32-4d1a-8582-aa5a0b9cc3d0",
   "metadata": {},
   "outputs": [],
   "source": [
    "data_root = Path('/home/yl986/data/HINT/')\n",
    "source_root = data_root / 'uniprot_source/release_202401/knowledgebase'\n",
    "# output_root = data_root / 'outputs_2023'\n",
    "update_root = data_root / 'update_2024'\n",
    "output_root = update_root / 'outputs'"
   ]
  },
  {
   "cell_type": "markdown",
   "id": "c7a7e626-72ef-4214-b725-c86b41e4a664",
   "metadata": {},
   "source": [
    "### Continue to fill UniProt IDs\n",
    "\n",
    "**Based on data sources from raw_interactions.txt**\n",
    "```{python}\n",
    "target_ids = ['BioGRID',\n",
    "                'ChEMBL',\n",
    "                'ComplexPortal',\n",
    "                'DIP',\n",
    "                'EMBL',\n",
    "                'Ensembl',\n",
    "                'EnsemblGenome',\n",
    "                'GeneID',\n",
    "                'PDB',\n",
    "                'Reactome',\n",
    "                'RefSeq']\n",
    "```\n",
    "\n",
    "**Prior steps**\n",
    "\n",
    "* Run `parse_source_data.py` to process\n",
    "    * FASTA files (`uniprot_sprot.fasta.gz`, `uniprot_sprot_varsplic.fasta.gz`, `uniprot_trembl.fasta.gz`) - to extract protein meta information\n",
    "    * species file `docs/speclist.txt` to extract species taxonomy information\n",
    "    * secondary-to-primary accession mapping file `docs/sec_ac.txt`\n",
    "* Run `prepare_dataset.py` to prepare protein interaction data from sources of interest\n",
    "\n",
    "* Run `create_idmapping.py`: parse `idmapping.dat.gz` file obtained from UniProt FTP site\n",
    "    * output 1: `target_type_to_uprot.json` dictionary of ID mapping organized by ID type (if an ID is mapped to multiple UniProt IDs, all UniProt IDs will be kept & concatenated by `'|'`)\n",
    "    * output 2: `prot_gene_info.tsv` descriptions for each UniProt ID columns: `(uprot | UniProtKB-ID | Gene_Name | Gene_ORFName | NCBI_TaxID)`\n",
    "    * `target_result.json` mapping of target IDs to UniProt when available  \n",
    "    Format: `\"ID_TYPE|SOURCE_ID\": \"UNIPROT_ID1(|UNIPROT_ID2|UNIPROT_ID3...)\"` (Example: '\"DIP|DIP-17064N\": \"Q9TW27\"')\n",
    "\n",
    "    \n",
    "    \n",
    "<!-- * Run `map_ids.py`: map target IDs to UniProt IDs\n",
    "    * Inputs: \n",
    "        * `accepted_id_dict.json`: mapping of ID names from original database to supported ID type keywords in `idmapping.dat.gz`\n",
    "        * `target_type_to_uprot.json` reference for ID mapping organized by ID type\n",
    "        * `mapping_targets_by_type.json`: target IDs to map organized by ID type\n",
    "    * Outputs:\n",
    "        * `target_result.json` mapping of target IDs to UniProt when available  \n",
    "        \n",
    "          Format: `\"ID_TYPE|SOURCE_ID\": \"UNIPROT_ID1(|UNIPROT_ID2|UNIPROT_ID3...)\"` (Example: '\"DIP|DIP-17064N\": \"Q9TW27\"') -->"
   ]
  },
  {
   "cell_type": "markdown",
   "id": "b28a175c-7b27-425c-a863-7698232b506a",
   "metadata": {},
   "source": [
    "* Load cache interaction file"
   ]
  },
  {
   "cell_type": "code",
   "execution_count": 7,
   "id": "c874205a-aa93-4fb9-ad43-ffc4c8897472",
   "metadata": {},
   "outputs": [
    {
     "name": "stderr",
     "output_type": "stream",
     "text": [
      "/tmp/ipykernel_4078056/2836094877.py:1: DtypeWarning: Columns (2,3,5,6,9,10) have mixed types. Specify dtype option on import or set low_memory=False.\n",
      "  raw_interactions1 = pd.read_csv(output_root / 'cache/raw_interactions_filled_partial.txt', sep='\\t', dtype={'method': str})\n"
     ]
    }
   ],
   "source": [
    "raw_interactions1 = pd.read_csv(output_root / 'cache/raw_interactions_filled_partial.txt', sep='\\t', dtype={'method': str})\n",
    "raw_interactions1['method'] = raw_interactions1['method'].str.zfill(4)"
   ]
  },
  {
   "cell_type": "markdown",
   "id": "f58cb444-cae0-46ac-a2a0-b9ff4bb87f7c",
   "metadata": {},
   "source": [
    "* Load accepted ID to keyword mapping"
   ]
  },
  {
   "cell_type": "code",
   "execution_count": 10,
   "id": "ed489caa-11da-4a50-ade4-99f4d6259c7b",
   "metadata": {},
   "outputs": [],
   "source": [
    "# with open(data_root / 'outputs_2023/cache/accepted_id_dict.json', 'r') as f:\n",
    "#     accept_id_map = json.load(f)\n",
    "\n",
    "# Global ID dictionary for FTP data - maps different ID types to their UNIPROT DB KEY\n",
    "# values are valid ID types from uniprot idmapping.dat file\n",
    "accept_id_map = {'refseq': \"RefSeq\", \n",
    "                'biogrid': \"BioGRID\", \n",
    "                'chembl target': \"ChEMBL\", \n",
    "                'complex': \"ComplexPortal\", \n",
    "                'ddbj/embl/genbank': \"EMBL\",\n",
    "                'dip': \"DIP\",\n",
    "                'ensembl': \"Ensembl\", \n",
    "                'ensemblgenomes': \"EnsemblGenome\",\n",
    "                'entrezgene/locuslink': \"GeneID\",\n",
    "                'entrez gene/locuslink': \"GeneID\",\n",
    "                'reactome': \"Reactome\",\n",
    "                'uniprot/swiss-prot': \"UniProtKB-Swiss-Prot\", \n",
    "                'uniprotkb': \"UniProtKB\",\n",
    "                'wwpdb': \"PDB\"}"
   ]
  },
  {
   "cell_type": "code",
   "execution_count": 11,
   "id": "f1b2a0bd-d24b-4d41-bf72-218c83d6a152",
   "metadata": {},
   "outputs": [],
   "source": [
    "# Load FTP mapping result\n",
    "with open(output_root / 'cache/target_result.json') as f:\n",
    "    target_map_dict = json.load(f)"
   ]
  },
  {
   "cell_type": "code",
   "execution_count": null,
   "id": "6edc3ee8-cafe-4be0-ac97-e1819ae648b0",
   "metadata": {},
   "outputs": [],
   "source": [
    "# Load REST-API mapping result (consider to discard this step and only use FTP result)\n",
    "# df_map2 = pd.read_csv(output_root / 'cache/api_id_map_result.txt', sep='\\t', names=['source_id', 'uprot'])\n",
    "# df_map2 = df_map2.groupby('source_id').agg({'uprot': lambda x: '|'.join(sorted(set(x)))}).reset_index()\n",
    "# df_map2['source_id'] = df_map2['source_id'].str.replace('RefSeq_Protein', 'RefSeq')\n",
    "# df_map2['source'] = df_map2['source_id'].apply(lambda x: x.split('|')[0])\n",
    "\n",
    "# # update target_map_dict\n",
    "# target_map_dict.update(dict(zip(df_map2['source_id'], df_map2['uprot'])))"
   ]
  },
  {
   "cell_type": "code",
   "execution_count": null,
   "id": "0e48cf73-bc83-4fc2-87eb-8c77bc03c278",
   "metadata": {},
   "outputs": [],
   "source": [
    "# check remaining IDs to be mapped\n",
    "# raw_interactions1[raw_interactions1['UniProt_A'].isna() | raw_interactions1['UniProt_B'].isna()]['source'].value_counts()"
   ]
  },
  {
   "cell_type": "markdown",
   "id": "151ea74c-bfd4-4603-9732-cb3ca52b23ca",
   "metadata": {},
   "source": [
    "#### Map source ID to UniProt (multiple mapping exists)"
   ]
  },
  {
   "cell_type": "code",
   "execution_count": 13,
   "id": "7cb005ab-59c9-4e00-ba9d-ddfe08ef6eeb",
   "metadata": {},
   "outputs": [],
   "source": [
    "def map_to_uniprot(itype, source_id, accept_id_map, target_map_dict, default_val=np.nan):\n",
    "    if itype in accept_id_map:\n",
    "        key = '|'.join([accept_id_map[str(itype)], str(source_id)])\n",
    "    elif itype in accept_id_map.values():\n",
    "        key = '|'.join([itype, str(source_id)])\n",
    "    else:\n",
    "        return default_val\n",
    "    return target_map_dict.get(key, default_val)"
   ]
  },
  {
   "cell_type": "code",
   "execution_count": 14,
   "id": "744dac1a-ee0e-4ebc-8624-b51acd0723a4",
   "metadata": {},
   "outputs": [],
   "source": [
    "idx = raw_interactions1['UniProt_A'].isna()\n",
    "raw_interactions1.loc[idx, 'UniProt_A'] = raw_interactions1.loc[idx].apply(lambda x: map_to_uniprot(x['idtype_A'], x['idA'], accept_id_map, target_map_dict, x['UniProt_A']), axis=1)\n",
    "\n",
    "idx = raw_interactions1['UniProt_B'].isna()\n",
    "raw_interactions1.loc[idx, 'UniProt_B'] = raw_interactions1.loc[idx].apply(lambda x: map_to_uniprot(x['idtype_B'], x['idB'], accept_id_map, target_map_dict, x['UniProt_B']), axis=1)"
   ]
  },
  {
   "cell_type": "code",
   "execution_count": 15,
   "id": "052d40a0-bc49-46c7-b68a-4304b86cffe4",
   "metadata": {},
   "outputs": [],
   "source": [
    "# save cache if necessary\n",
    "# raw_interactions1.to_csv(output_source / 'cache/raw_interactions_filled_all.txt', sep='\\t', index=False)"
   ]
  },
  {
   "cell_type": "code",
   "execution_count": 16,
   "id": "de68e2ed-398b-4692-a8c2-1f600e1a09ce",
   "metadata": {},
   "outputs": [],
   "source": [
    "# proceed with filled entries\n",
    "raw_ppi_filled = raw_interactions1[raw_interactions1['UniProt_A'].notna() & raw_interactions1['UniProt_B'].notna()].reset_index(drop=True)"
   ]
  },
  {
   "cell_type": "code",
   "execution_count": 17,
   "id": "c71688b2-8b06-4472-8a1b-d97a10560ea5",
   "metadata": {},
   "outputs": [],
   "source": [
    "# Additional cleaning steps\n",
    "if raw_ppi_filled['taxa'].str.contains('\\.').any():\n",
    "    raw_ppi_filled['taxa'] = raw_ppi_filled['taxa'].apply(lambda x: str(x).split('.')[0])\n",
    "if raw_ppi_filled['idA'].str.contains(' ').any():\n",
    "    raw_ppi_filled['idA'] = raw_ppi_filled['idA'].apply(lambda x: str(x).split(' ')[0].strip())\n",
    "if raw_ppi_filled['idB'].str.contains(' ').any():\n",
    "    raw_ppi_filled['idB'] = raw_ppi_filled['idB'].apply(lambda x: str(x).split(' ')[0].strip())"
   ]
  },
  {
   "cell_type": "code",
   "execution_count": 18,
   "id": "49b7a44a-4d22-4620-8e53-ab9377e725ff",
   "metadata": {},
   "outputs": [
    {
     "data": {
      "text/plain": [
       "(5165045, 11)"
      ]
     },
     "execution_count": 18,
     "metadata": {},
     "output_type": "execute_result"
    }
   ],
   "source": [
    "raw_ppi_filled.shape"
   ]
  },
  {
   "cell_type": "markdown",
   "id": "82d6953c-2c07-48dc-b8fc-3ca30a72320e",
   "metadata": {},
   "source": [
    "* save to cache"
   ]
  },
  {
   "cell_type": "code",
   "execution_count": 20,
   "id": "6d5dbae4-594b-42a2-b890-e8d4e9a1bf0b",
   "metadata": {},
   "outputs": [],
   "source": [
    "raw_ppi_filled.to_csv(output_root / 'cache/raw_interactions_filled_all.txt', index=False, sep='\\t')"
   ]
  },
  {
   "cell_type": "markdown",
   "id": "c04b2fc8-0e3c-4c0c-baae-149e05c283c8",
   "metadata": {},
   "source": [
    "#### Re-format ID-to-UniProt mapping file (one protein ID each row)"
   ]
  },
  {
   "cell_type": "code",
   "execution_count": 21,
   "id": "5efb4fd0-aa49-4395-9233-c846eaa20cd8",
   "metadata": {},
   "outputs": [],
   "source": [
    "df_prot = pd.concat([raw_interactions1[['idtype_A', 'idA', 'taxa', 'UniProt_A']].rename(columns={'idtype_A': 'idtype', 'idA': 'id', 'UniProt_A': 'UniProt'}), \n",
    "                     raw_interactions1[['idtype_B', 'idB', 'taxa', 'UniProt_B']].rename(columns={'idtype_B': 'idtype', 'idB': 'id', 'UniProt_B': 'UniProt'})])\n",
    "df_prot = df_prot.dropna().drop_duplicates().reset_index(drop=True)"
   ]
  },
  {
   "cell_type": "code",
   "execution_count": 23,
   "id": "3939dd0b-cc9a-477a-840f-9d62811c339c",
   "metadata": {},
   "outputs": [],
   "source": [
    "df_prot['taxa'] = df_prot['taxa'].astype(str)"
   ]
  },
  {
   "cell_type": "code",
   "execution_count": 25,
   "id": "40f0c9b0-47b2-49ae-8f12-d5154de6ead7",
   "metadata": {},
   "outputs": [
    {
     "data": {
      "text/plain": [
       "array(['9606', '9606.0'], dtype=object)"
      ]
     },
     "execution_count": 25,
     "metadata": {},
     "output_type": "execute_result"
    }
   ],
   "source": [
    "df_prot[df_prot['taxa'].str.contains('9606')]['taxa'].unique()"
   ]
  },
  {
   "cell_type": "code",
   "execution_count": 27,
   "id": "b9df8c0f-fce2-40c2-a1ab-04b94be8f90f",
   "metadata": {},
   "outputs": [
    {
     "data": {
      "text/html": [
       "<div>\n",
       "<style scoped>\n",
       "    .dataframe tbody tr th:only-of-type {\n",
       "        vertical-align: middle;\n",
       "    }\n",
       "\n",
       "    .dataframe tbody tr th {\n",
       "        vertical-align: top;\n",
       "    }\n",
       "\n",
       "    .dataframe thead th {\n",
       "        text-align: right;\n",
       "    }\n",
       "</style>\n",
       "<table border=\"1\" class=\"dataframe\">\n",
       "  <thead>\n",
       "    <tr style=\"text-align: right;\">\n",
       "      <th></th>\n",
       "      <th>idtype</th>\n",
       "      <th>id</th>\n",
       "      <th>taxa</th>\n",
       "      <th>UniProt</th>\n",
       "    </tr>\n",
       "  </thead>\n",
       "  <tbody>\n",
       "    <tr>\n",
       "      <th>108669</th>\n",
       "      <td>uniprotkb</td>\n",
       "      <td>P31939</td>\n",
       "      <td>-</td>\n",
       "      <td>P31939</td>\n",
       "    </tr>\n",
       "    <tr>\n",
       "      <th>282302</th>\n",
       "      <td>uniprotkb</td>\n",
       "      <td>Q9UBE0</td>\n",
       "      <td>-</td>\n",
       "      <td>Q9UBE0</td>\n",
       "    </tr>\n",
       "  </tbody>\n",
       "</table>\n",
       "</div>"
      ],
      "text/plain": [
       "           idtype      id taxa UniProt\n",
       "108669  uniprotkb  P31939    -  P31939\n",
       "282302  uniprotkb  Q9UBE0    -  Q9UBE0"
      ]
     },
     "execution_count": 27,
     "metadata": {},
     "output_type": "execute_result"
    }
   ],
   "source": [
    "df_prot.loc[df_prot['taxa'].str.contains('-')]"
   ]
  },
  {
   "cell_type": "code",
   "execution_count": 28,
   "id": "651fdc35-96ad-4acf-8770-4b723a309d3c",
   "metadata": {},
   "outputs": [],
   "source": [
    "# Manual cleaning\n",
    "# checked manually: P31939, Q9UBE0 are both human protein (reviewed)\n",
    "df_prot.loc[df_prot['taxa'].str.contains('-'), 'taxa'] = '9606'\n",
    "df_prot['taxa'] = df_prot['taxa'].apply(lambda x: str(x).split('.')[0])  # clean up float format taxa ID (result from NaN in the column)"
   ]
  },
  {
   "cell_type": "markdown",
   "id": "ba84fb52-a2d2-4abd-b42b-a96ab4ea0273",
   "metadata": {},
   "source": [
    "* Split entries with joined UniProt IDs into multiple rows"
   ]
  },
  {
   "cell_type": "code",
   "execution_count": 29,
   "id": "0a6489f5-363d-4e2a-baba-874f99947334",
   "metadata": {},
   "outputs": [],
   "source": [
    "df_prot['uprot_lst'] = df_prot['UniProt'].str.split('|')\n",
    "df_prot = df_prot.explode('uprot_lst').drop('UniProt', axis=1).drop_duplicates().rename(columns={'uprot_lst': 'UniProt'}).reset_index(drop=True)"
   ]
  },
  {
   "cell_type": "code",
   "execution_count": 33,
   "id": "3f978d02-1cbb-4c69-8213-028d6bfbe4eb",
   "metadata": {},
   "outputs": [],
   "source": [
    "# sanity check\n",
    "# df_prot.describe()"
   ]
  },
  {
   "cell_type": "code",
   "execution_count": 32,
   "id": "0dffa27f-2595-4ebd-8adb-0cfa3d5df29c",
   "metadata": {},
   "outputs": [],
   "source": [
    "cleanup_idx = df_prot['UniProt'].str.contains(' ')\n",
    "df_prot.loc[cleanup_idx, 'id'] = df_prot.loc[cleanup_idx, 'id'].apply(lambda x: x.strip().split(' ')[0])\n",
    "df_prot.loc[cleanup_idx, 'UniProt'] = df_prot.loc[cleanup_idx, 'UniProt'].apply(lambda x: x.strip().split(' ')[0])"
   ]
  },
  {
   "cell_type": "code",
   "execution_count": 36,
   "id": "26bbdd4b-09fb-4498-b2cb-c79694eee500",
   "metadata": {},
   "outputs": [],
   "source": [
    "# save cache file\n",
    "df_prot.to_csv(output_root / 'cache/id_to_uniprot.txt', sep='\\t', index=False)"
   ]
  },
  {
   "cell_type": "markdown",
   "id": "5e967f88-7069-4f72-acd9-f04264f633da",
   "metadata": {},
   "source": [
    "#### Secondary accession file"
   ]
  },
  {
   "cell_type": "code",
   "execution_count": 34,
   "id": "0f9013df-3ee1-4af3-b09b-b520fb19d91a",
   "metadata": {},
   "outputs": [],
   "source": [
    "# df_prot = pd.read_csv(output_root / 'cache/id_to_uniprot.txt', sep='\\t')"
   ]
  },
  {
   "cell_type": "code",
   "execution_count": 38,
   "id": "d237d110-e24d-4d5e-a586-9a2281aab0fa",
   "metadata": {},
   "outputs": [
    {
     "data": {
      "text/plain": [
       "218601"
      ]
     },
     "execution_count": 38,
     "metadata": {},
     "output_type": "execute_result"
    }
   ],
   "source": [
    "df_prot['UniProt'].nunique()"
   ]
  },
  {
   "cell_type": "code",
   "execution_count": 39,
   "id": "78a0b24f-950c-49c6-9852-af1dccfaa771",
   "metadata": {},
   "outputs": [],
   "source": [
    "sec_merged = pd.read_csv(source_root / 'docs/cache/sec_acc_parsed.txt', sep='\\t')"
   ]
  },
  {
   "cell_type": "code",
   "execution_count": 40,
   "id": "b1d4164a-d051-4f50-b5da-5798a939570e",
   "metadata": {},
   "outputs": [
    {
     "data": {
      "text/html": [
       "<div>\n",
       "<style scoped>\n",
       "    .dataframe tbody tr th:only-of-type {\n",
       "        vertical-align: middle;\n",
       "    }\n",
       "\n",
       "    .dataframe tbody tr th {\n",
       "        vertical-align: top;\n",
       "    }\n",
       "\n",
       "    .dataframe thead th {\n",
       "        text-align: right;\n",
       "    }\n",
       "</style>\n",
       "<table border=\"1\" class=\"dataframe\">\n",
       "  <thead>\n",
       "    <tr style=\"text-align: right;\">\n",
       "      <th></th>\n",
       "      <th>secondary</th>\n",
       "      <th>primary</th>\n",
       "    </tr>\n",
       "  </thead>\n",
       "  <tbody>\n",
       "    <tr>\n",
       "      <th>0</th>\n",
       "      <td>A0A011PKA5</td>\n",
       "      <td>C7RW80</td>\n",
       "    </tr>\n",
       "    <tr>\n",
       "      <th>1</th>\n",
       "      <td>A0A011PPS3</td>\n",
       "      <td>C7RW54</td>\n",
       "    </tr>\n",
       "    <tr>\n",
       "      <th>2</th>\n",
       "      <td>A0A011Q4P3</td>\n",
       "      <td>C7RWC7</td>\n",
       "    </tr>\n",
       "    <tr>\n",
       "      <th>3</th>\n",
       "      <td>A0A011QYZ9</td>\n",
       "      <td>C7RW92</td>\n",
       "    </tr>\n",
       "    <tr>\n",
       "      <th>4</th>\n",
       "      <td>A0A016SR66</td>\n",
       "      <td>A0A0D6L478</td>\n",
       "    </tr>\n",
       "  </tbody>\n",
       "</table>\n",
       "</div>"
      ],
      "text/plain": [
       "    secondary     primary\n",
       "0  A0A011PKA5      C7RW80\n",
       "1  A0A011PPS3      C7RW54\n",
       "2  A0A011Q4P3      C7RWC7\n",
       "3  A0A011QYZ9      C7RW92\n",
       "4  A0A016SR66  A0A0D6L478"
      ]
     },
     "execution_count": 40,
     "metadata": {},
     "output_type": "execute_result"
    }
   ],
   "source": [
    "sec_merged.head()"
   ]
  },
  {
   "cell_type": "code",
   "execution_count": 41,
   "id": "962f1c66-526f-4114-a78c-7e42e04a561a",
   "metadata": {},
   "outputs": [
    {
     "data": {
      "text/plain": [
       "3085"
      ]
     },
     "execution_count": 41,
     "metadata": {},
     "output_type": "execute_result"
    }
   ],
   "source": [
    "sec_uprots = df_prot[df_prot['UniProt'].isin(sec_merged['secondary'])]['UniProt'].unique()\n",
    "len(sec_uprots)"
   ]
  },
  {
   "cell_type": "code",
   "execution_count": 42,
   "id": "5f34d31b-b675-4afc-89ff-14194840ecc7",
   "metadata": {},
   "outputs": [],
   "source": [
    "df_prot = df_prot.merge(sec_merged.rename(columns={'secondary': 'UniProt'}), how='left').drop_duplicates()\n",
    "df_prot.loc[df_prot['primary'].isna(), 'primary'] = df_prot.loc[df_prot['primary'].isna(), 'UniProt']"
   ]
  },
  {
   "cell_type": "code",
   "execution_count": 43,
   "id": "076b700b-e887-4ca0-83f6-76a7da3e7f6f",
   "metadata": {},
   "outputs": [
    {
     "data": {
      "text/plain": [
       "216993"
      ]
     },
     "execution_count": 43,
     "metadata": {},
     "output_type": "execute_result"
    }
   ],
   "source": [
    "df_prot['primary'].nunique()"
   ]
  },
  {
   "cell_type": "code",
   "execution_count": 44,
   "id": "37c4cdf5-f1ca-442f-9d72-e03f64fd5711",
   "metadata": {},
   "outputs": [
    {
     "data": {
      "text/plain": [
       "idtype     object\n",
       "id         object\n",
       "taxa       object\n",
       "UniProt    object\n",
       "primary    object\n",
       "dtype: object"
      ]
     },
     "execution_count": 44,
     "metadata": {},
     "output_type": "execute_result"
    }
   ],
   "source": [
    "df_prot.dtypes"
   ]
  },
  {
   "cell_type": "code",
   "execution_count": 45,
   "id": "d1866165-7cb5-43b5-8470-715b1fa594c6",
   "metadata": {},
   "outputs": [
    {
     "data": {
      "text/plain": [
       "204145"
      ]
     },
     "execution_count": 45,
     "metadata": {},
     "output_type": "execute_result"
    }
   ],
   "source": [
    "df_prot['primary_short'] = df_prot['primary'].apply(lambda x: x.split('-')[0])\n",
    "df_prot['primary_short'].nunique()"
   ]
  },
  {
   "cell_type": "markdown",
   "id": "90425d43-cbd9-4156-b7ed-857e31a01aba",
   "metadata": {},
   "source": [
    "* save source ID to UniProt mapping file"
   ]
  },
  {
   "cell_type": "code",
   "execution_count": 49,
   "id": "a402eeec-736f-4aba-8225-06360b9eb2be",
   "metadata": {},
   "outputs": [
    {
     "data": {
      "text/html": [
       "<div>\n",
       "<style scoped>\n",
       "    .dataframe tbody tr th:only-of-type {\n",
       "        vertical-align: middle;\n",
       "    }\n",
       "\n",
       "    .dataframe tbody tr th {\n",
       "        vertical-align: top;\n",
       "    }\n",
       "\n",
       "    .dataframe thead th {\n",
       "        text-align: right;\n",
       "    }\n",
       "</style>\n",
       "<table border=\"1\" class=\"dataframe\">\n",
       "  <thead>\n",
       "    <tr style=\"text-align: right;\">\n",
       "      <th></th>\n",
       "      <th>idtype</th>\n",
       "      <th>id</th>\n",
       "      <th>taxa</th>\n",
       "      <th>UniProt</th>\n",
       "      <th>primary</th>\n",
       "      <th>primary_short</th>\n",
       "    </tr>\n",
       "  </thead>\n",
       "  <tbody>\n",
       "    <tr>\n",
       "      <th>0</th>\n",
       "      <td>dip</td>\n",
       "      <td>DIP-445N</td>\n",
       "      <td>10090</td>\n",
       "      <td>P46414</td>\n",
       "      <td>P46414</td>\n",
       "      <td>P46414</td>\n",
       "    </tr>\n",
       "    <tr>\n",
       "      <th>1</th>\n",
       "      <td>dip</td>\n",
       "      <td>DIP-617N</td>\n",
       "      <td>9606</td>\n",
       "      <td>P01730</td>\n",
       "      <td>P01730</td>\n",
       "      <td>P01730</td>\n",
       "    </tr>\n",
       "    <tr>\n",
       "      <th>2</th>\n",
       "      <td>dip</td>\n",
       "      <td>DIP-1025N</td>\n",
       "      <td>83333</td>\n",
       "      <td>P00968</td>\n",
       "      <td>P00968</td>\n",
       "      <td>P00968</td>\n",
       "    </tr>\n",
       "    <tr>\n",
       "      <th>3</th>\n",
       "      <td>dip</td>\n",
       "      <td>DIP-19N</td>\n",
       "      <td>7227</td>\n",
       "      <td>P07713</td>\n",
       "      <td>P07713</td>\n",
       "      <td>P07713</td>\n",
       "    </tr>\n",
       "    <tr>\n",
       "      <th>4</th>\n",
       "      <td>dip</td>\n",
       "      <td>DIP-25N</td>\n",
       "      <td>4932</td>\n",
       "      <td>P09798</td>\n",
       "      <td>P09798</td>\n",
       "      <td>P09798</td>\n",
       "    </tr>\n",
       "  </tbody>\n",
       "</table>\n",
       "</div>"
      ],
      "text/plain": [
       "  idtype         id   taxa UniProt primary primary_short\n",
       "0    dip   DIP-445N  10090  P46414  P46414        P46414\n",
       "1    dip   DIP-617N   9606  P01730  P01730        P01730\n",
       "2    dip  DIP-1025N  83333  P00968  P00968        P00968\n",
       "3    dip    DIP-19N   7227  P07713  P07713        P07713\n",
       "4    dip    DIP-25N   4932  P09798  P09798        P09798"
      ]
     },
     "execution_count": 49,
     "metadata": {},
     "output_type": "execute_result"
    }
   ],
   "source": [
    "df_prot.head()"
   ]
  },
  {
   "cell_type": "code",
   "execution_count": 47,
   "id": "537801f2-7b9d-4f69-a372-b305529b030c",
   "metadata": {},
   "outputs": [],
   "source": [
    "df_prot.to_csv(output_root / 'cache/id_to_uniprot.txt', sep='\\t', index=False)"
   ]
  },
  {
   "cell_type": "code",
   "execution_count": 48,
   "id": "b4c86362-22fe-4c9e-b47b-190ff8325809",
   "metadata": {},
   "outputs": [],
   "source": [
    "# df_prot = pd.read_csv(output_root / 'cache/id_to_uniprot.txt', sep='\\t', dtype={'taxa': str})"
   ]
  },
  {
   "cell_type": "markdown",
   "id": "2189ccf5-1c2c-4a69-848f-5d7b386d9b48",
   "metadata": {},
   "source": [
    "### Merge with protein description data\n",
    "\n",
    "**Preparations**\n",
    "\n",
    "* Generate `uniprot_descriptions.txt` (description for selected protein) from protein meta files (`query_uprot_desc.py`)\n",
    "  * Input: \n",
    "    * `id_to_uniprot.txt`\n",
    "    * protein meta files under $UNIPROT_KNOWLEDGEBASE/complete/meta\n",
    "\n",
    "**Either run the following chunks or the python script**\n"
   ]
  },
  {
   "cell_type": "code",
   "execution_count": null,
   "id": "1eb986e8-fcc9-40e4-a694-508a4bf9ec08",
   "metadata": {},
   "outputs": [],
   "source": [
    "def extract_uprot_meta_info(df_prot, source_path, out_path, pid_col='UniProt', meta_pid_col='UniProt', \n",
    "                            meta_prefix=['sprot', 'sprot_varsplic', 'trembl'], chunksize=1e6, \n",
    "                            output_name='uniprot_descriptions.txt'):\n",
    "    \"\"\"\n",
    "    Extract description for selected protein IDs\n",
    "    \"\"\"\n",
    "    if isinstance(source_path, str):\n",
    "        source_path = Path(source_path)\n",
    "\n",
    "    if isinstance(out_path, str):\n",
    "        out_path = Path(out_path)\n",
    "    \n",
    "    if not out_path.exists():\n",
    "        out_path.mkdir(parents=True)\n",
    "\n",
    "    prot_remain = set(df_prot[pid_col])\n",
    "    print('# UniProt IDs:', len(prot_remain))\n",
    "\n",
    "    header = True\n",
    "    mode = 'w'\n",
    "    for prefix in meta_prefix:\n",
    "        fname = f'{prefix}_meta.txt'\n",
    "        if not (source_path / fname).exists():\n",
    "            print('{} not found!'.format(str(source_path / fname)))\n",
    "            continue\n",
    "\n",
    "        chunks = pd.read_csv(source_path / fname, sep='\\t', chunksize=chunksize)\n",
    "        for df_meta in chunks:\n",
    "            records = df_meta[df_meta[meta_pid_col].isin(prot_remain)]\n",
    "            records.to_csv(out_path / output_name, mode=mode, header=header, sep='\\t', index=False)\n",
    "            prot_remain = prot_remain - set(records[meta_pid_col])\n",
    "            print('# UniProt IDs remain:', len(prot_remain))\n",
    "            if len(prot_remain) == 0:\n",
    "                break\n",
    "            header = False  # write header only the first time\n",
    "            mode = 'a'"
   ]
  },
  {
   "cell_type": "code",
   "execution_count": null,
   "id": "47b1d84e-89a3-4651-a63a-94dba7a93c29",
   "metadata": {},
   "outputs": [],
   "source": [
    "# Uncomment to run\n",
    "\n",
    "# prot_meta_root = Path('/home/yl986/data/HINT/uniprot_source/release_202401/knowledgebase/complete/meta')\n",
    "# df_prot = pd.read_csv(data_root / 'id_to_uniprot.txt', sep='\\t')\n",
    "# output_cache_root = output_root / 'cache'\n",
    "\n",
    "# extract_uprot_meta_info(df_prot, prot_meta_root, out_path=output_cache_root, pid_col='primary_ac_short')"
   ]
  },
  {
   "cell_type": "code",
   "execution_count": null,
   "id": "2bb003f8-db2f-4a99-8874-536fda91f01d",
   "metadata": {},
   "outputs": [],
   "source": []
  },
  {
   "cell_type": "markdown",
   "id": "efe31a8a-7aa7-49f8-a702-e70e218c7668",
   "metadata": {},
   "source": [
    "* Continue with processed uniprot description file"
   ]
  },
  {
   "cell_type": "code",
   "execution_count": 50,
   "id": "02074ea1-95a2-4146-9ff5-34d0958b44a8",
   "metadata": {},
   "outputs": [],
   "source": [
    "df_desc = pd.read_csv(output_root / 'cache/uniprot_descriptions.txt', sep='\\t')"
   ]
  },
  {
   "cell_type": "code",
   "execution_count": 51,
   "id": "68be29e2-e51f-437e-b858-7e023341a48e",
   "metadata": {},
   "outputs": [
    {
     "data": {
      "text/html": [
       "<div>\n",
       "<style scoped>\n",
       "    .dataframe tbody tr th:only-of-type {\n",
       "        vertical-align: middle;\n",
       "    }\n",
       "\n",
       "    .dataframe tbody tr th {\n",
       "        vertical-align: top;\n",
       "    }\n",
       "\n",
       "    .dataframe thead th {\n",
       "        text-align: right;\n",
       "    }\n",
       "</style>\n",
       "<table border=\"1\" class=\"dataframe\">\n",
       "  <thead>\n",
       "    <tr style=\"text-align: right;\">\n",
       "      <th></th>\n",
       "      <th>tag</th>\n",
       "      <th>UniProt</th>\n",
       "      <th>name</th>\n",
       "      <th>length</th>\n",
       "      <th>species</th>\n",
       "      <th>taxa</th>\n",
       "      <th>gene_name</th>\n",
       "      <th>description</th>\n",
       "    </tr>\n",
       "  </thead>\n",
       "  <tbody>\n",
       "    <tr>\n",
       "      <th>0</th>\n",
       "      <td>sp</td>\n",
       "      <td>P32234</td>\n",
       "      <td>128UP_DROME</td>\n",
       "      <td>368</td>\n",
       "      <td>Drosophila melanogaster</td>\n",
       "      <td>7227</td>\n",
       "      <td>128up</td>\n",
       "      <td>GTP-binding protein 128up</td>\n",
       "    </tr>\n",
       "    <tr>\n",
       "      <th>1</th>\n",
       "      <td>sp</td>\n",
       "      <td>Q8GBW6</td>\n",
       "      <td>12S_PROFR</td>\n",
       "      <td>524</td>\n",
       "      <td>Propionibacterium freudenreichii subsp. shermanii</td>\n",
       "      <td>1752</td>\n",
       "      <td>NaN</td>\n",
       "      <td>Methylmalonyl-CoA carboxyltransferase 12S subunit</td>\n",
       "    </tr>\n",
       "    <tr>\n",
       "      <th>2</th>\n",
       "      <td>sp</td>\n",
       "      <td>P81928</td>\n",
       "      <td>140U_DROME</td>\n",
       "      <td>261</td>\n",
       "      <td>Drosophila melanogaster</td>\n",
       "      <td>7227</td>\n",
       "      <td>140up</td>\n",
       "      <td>RPII140-upstream gene protein</td>\n",
       "    </tr>\n",
       "    <tr>\n",
       "      <th>3</th>\n",
       "      <td>sp</td>\n",
       "      <td>P48347</td>\n",
       "      <td>14310_ARATH</td>\n",
       "      <td>254</td>\n",
       "      <td>Arabidopsis thaliana</td>\n",
       "      <td>3702</td>\n",
       "      <td>GRF10</td>\n",
       "      <td>14-3-3-like protein GF14 epsilon</td>\n",
       "    </tr>\n",
       "    <tr>\n",
       "      <th>4</th>\n",
       "      <td>sp</td>\n",
       "      <td>Q9S9Z8</td>\n",
       "      <td>14311_ARATH</td>\n",
       "      <td>252</td>\n",
       "      <td>Arabidopsis thaliana</td>\n",
       "      <td>3702</td>\n",
       "      <td>GRF11</td>\n",
       "      <td>14-3-3-like protein GF14 omicron</td>\n",
       "    </tr>\n",
       "  </tbody>\n",
       "</table>\n",
       "</div>"
      ],
      "text/plain": [
       "  tag UniProt         name  length  \\\n",
       "0  sp  P32234  128UP_DROME     368   \n",
       "1  sp  Q8GBW6    12S_PROFR     524   \n",
       "2  sp  P81928   140U_DROME     261   \n",
       "3  sp  P48347  14310_ARATH     254   \n",
       "4  sp  Q9S9Z8  14311_ARATH     252   \n",
       "\n",
       "                                             species  taxa gene_name  \\\n",
       "0                            Drosophila melanogaster  7227     128up   \n",
       "1  Propionibacterium freudenreichii subsp. shermanii  1752       NaN   \n",
       "2                            Drosophila melanogaster  7227     140up   \n",
       "3                               Arabidopsis thaliana  3702     GRF10   \n",
       "4                               Arabidopsis thaliana  3702     GRF11   \n",
       "\n",
       "                                         description  \n",
       "0                          GTP-binding protein 128up  \n",
       "1  Methylmalonyl-CoA carboxyltransferase 12S subunit  \n",
       "2                      RPII140-upstream gene protein  \n",
       "3                   14-3-3-like protein GF14 epsilon  \n",
       "4                   14-3-3-like protein GF14 omicron  "
      ]
     },
     "execution_count": 51,
     "metadata": {},
     "output_type": "execute_result"
    }
   ],
   "source": [
    "df_desc.head()"
   ]
  },
  {
   "cell_type": "code",
   "execution_count": 55,
   "id": "8b94b9ca-b12e-4ef7-aa10-4d736f820724",
   "metadata": {},
   "outputs": [
    {
     "data": {
      "text/plain": [
       "dtype('int64')"
      ]
     },
     "execution_count": 55,
     "metadata": {},
     "output_type": "execute_result"
    }
   ],
   "source": [
    "df_desc['taxa'].dtype"
   ]
  },
  {
   "cell_type": "markdown",
   "id": "ed8c4f26-93fe-4ea1-85eb-89273cdf4ece",
   "metadata": {},
   "source": [
    "#### Curate species information\n",
    "\n",
    "**Note**\n",
    "\n",
    "Parsed species information from `parse_source_data.py` needs further processing to merge \"redundant\" taxonomy IDs"
   ]
  },
  {
   "cell_type": "code",
   "execution_count": 52,
   "id": "dac80f29-7a4f-47d8-be8c-2d18dd4fd7c8",
   "metadata": {},
   "outputs": [],
   "source": [
    "df_species = pd.read_csv(source_root / 'docs/cache/species_parsed.txt', sep='\\t')"
   ]
  },
  {
   "cell_type": "code",
   "execution_count": 53,
   "id": "78f1b3d8-0c5d-4336-b41e-6b08f2932a79",
   "metadata": {},
   "outputs": [],
   "source": [
    "df_species['taxa'] = df_species['taxa'].astype(str)"
   ]
  },
  {
   "cell_type": "code",
   "execution_count": 54,
   "id": "59d8126e-d4f8-4a3d-a69f-accd38e33b4b",
   "metadata": {},
   "outputs": [
    {
     "data": {
      "text/plain": [
       "False"
      ]
     },
     "execution_count": 54,
     "metadata": {},
     "output_type": "execute_result"
    }
   ],
   "source": [
    "df_species['taxa'].isna().any()"
   ]
  },
  {
   "cell_type": "code",
   "execution_count": 56,
   "id": "69d96df8-19f3-48e4-a350-73531a4663de",
   "metadata": {},
   "outputs": [],
   "source": [
    "# Rule-based curation (consider to revise later)\n",
    "df_species['scientific_name_short'] = df_species['scientific_name'].apply(lambda x: x.split('(')[0].strip())\n",
    "ecoli_idx = df_species['scientific_name'].str.startswith('Escherichia coli')  # manual rule for E Coli\n",
    "df_species.loc[ecoli_idx, 'scientific_name_short'] = 'Escherichia coli'\n",
    "\n",
    "rice_idx = df_species['common_name'] == 'Rice' # manual rule for Rice\n",
    "df_species.loc[rice_idx, 'scientific_name_short'] = 'Oryza sativa'"
   ]
  },
  {
   "cell_type": "code",
   "execution_count": 57,
   "id": "0c80221d-99d7-4a3e-b0c5-f0f343f265f2",
   "metadata": {},
   "outputs": [],
   "source": [
    "# generate aggregated taxa ID mapping dict\n",
    "\n",
    "df_spe_agg = df_species.astype({'taxa': int}).groupby('scientific_name_short').agg({'taxa': lambda x: sorted(list(x))}).reset_index()\n",
    "df_spe_agg['n_taxa'] = df_spe_agg['taxa'].apply(len)\n",
    "df_multi = df_spe_agg.query('n_taxa > 1').reset_index(drop=True)\n",
    "df_multi['taxa_unified'] = df_multi['taxa'].apply(lambda x: x[0])  # map to the smallest ID value within the same \"species\"\n",
    "df_multi = df_multi.explode('taxa').reset_index(drop=True)\n",
    "\n",
    "taxa_map_dict = dict(zip(df_multi['taxa'].astype(str), df_multi['taxa_unified'].astype(str)))"
   ]
  },
  {
   "cell_type": "code",
   "execution_count": 58,
   "id": "f834db13-8279-4bf8-971d-d89a6579312d",
   "metadata": {},
   "outputs": [
    {
     "data": {
      "text/plain": [
       "4496"
      ]
     },
     "execution_count": 58,
     "metadata": {},
     "output_type": "execute_result"
    }
   ],
   "source": [
    "len(taxa_map_dict)"
   ]
  },
  {
   "cell_type": "markdown",
   "id": "a96bbb49-13f3-4e03-80a5-7f9300b6112a",
   "metadata": {},
   "source": [
    "* save taxanomy mapping file"
   ]
  },
  {
   "cell_type": "code",
   "execution_count": 59,
   "id": "028c6a92-d64b-42f4-8683-23960dd2ab0e",
   "metadata": {},
   "outputs": [],
   "source": [
    "with open(output_root / 'cache/taxa_map_dict.json', 'w') as f:\n",
    "    json.dump(taxa_map_dict, f, indent=2)"
   ]
  },
  {
   "cell_type": "markdown",
   "id": "6e7c72f8-a124-49ba-aa77-6147b6af4088",
   "metadata": {},
   "source": [
    "#### Continue to clean up protein mapping & description"
   ]
  },
  {
   "cell_type": "code",
   "execution_count": 60,
   "id": "6a1232bc-3e72-4754-a2ad-07535d2a123c",
   "metadata": {},
   "outputs": [
    {
     "data": {
      "text/plain": [
       "dtype('O')"
      ]
     },
     "execution_count": 60,
     "metadata": {},
     "output_type": "execute_result"
    }
   ],
   "source": [
    "df_prot['taxa'].dtype"
   ]
  },
  {
   "cell_type": "code",
   "execution_count": 61,
   "id": "ac20f917-997a-46c2-9046-f8ee99357315",
   "metadata": {},
   "outputs": [
    {
     "data": {
      "text/plain": [
       "5107"
      ]
     },
     "execution_count": 61,
     "metadata": {},
     "output_type": "execute_result"
    }
   ],
   "source": [
    "df_prot['taxa'].nunique()"
   ]
  },
  {
   "cell_type": "code",
   "execution_count": 62,
   "id": "c175d857-cd23-4074-b82b-79d63772c244",
   "metadata": {},
   "outputs": [
    {
     "name": "stdout",
     "output_type": "stream",
     "text": [
      "4395\n",
      "4131\n"
     ]
    }
   ],
   "source": [
    "# revise taxa ID first\n",
    "\n",
    "df_prot['taxa_rev'] = df_prot['taxa'].astype(str).apply(lambda x: taxa_map_dict[str(x)] if x in taxa_map_dict else x)\n",
    "print(df_prot['taxa_rev'].nunique())\n",
    "\n",
    "df_desc['taxa_rev'] = df_desc['taxa'].astype(str).apply(lambda x: taxa_map_dict[str(x)] if x in taxa_map_dict else x)\n",
    "print(df_desc['taxa_rev'].nunique())"
   ]
  },
  {
   "cell_type": "code",
   "execution_count": 63,
   "id": "6e950b3a-0a7c-4f84-89cd-815bfdf8dbd8",
   "metadata": {},
   "outputs": [],
   "source": [
    "# Merge by UniProt AND unified taxa\n",
    "\n",
    "pid_col = 'primary_short'\n",
    "\n",
    "df_prot_info = df_prot[['idtype', 'id', 'taxa_rev', 'UniProt', 'primary_short']].rename(columns={'UniProt': 'UniProt_orig'}).\\\n",
    "                merge(df_desc, left_on=['primary_short', 'taxa_rev'], right_on=['UniProt', 'taxa_rev'], how='left').drop(columns=['UniProt', 'taxa']).\\\n",
    "                rename(columns={'taxa_rev': 'taxa'}).drop_duplicates().reset_index(drop=True)"
   ]
  },
  {
   "cell_type": "code",
   "execution_count": 64,
   "id": "e0a3589b-dbe5-4978-855d-898f9ee4e34e",
   "metadata": {},
   "outputs": [
    {
     "data": {
      "text/plain": [
       "4395"
      ]
     },
     "execution_count": 64,
     "metadata": {},
     "output_type": "execute_result"
    }
   ],
   "source": [
    "df_prot_info['taxa'].nunique()"
   ]
  },
  {
   "cell_type": "code",
   "execution_count": 65,
   "id": "826fa4ca-8c3c-45bd-9c1f-4025e3f3e320",
   "metadata": {},
   "outputs": [
    {
     "data": {
      "text/plain": [
       "(376182, 11)"
      ]
     },
     "execution_count": 65,
     "metadata": {},
     "output_type": "execute_result"
    }
   ],
   "source": [
    "df_prot_info.shape"
   ]
  },
  {
   "cell_type": "code",
   "execution_count": 66,
   "id": "7121b218-22c9-4bcd-bc36-cf75b474d209",
   "metadata": {},
   "outputs": [
    {
     "data": {
      "text/plain": [
       "4015"
      ]
     },
     "execution_count": 66,
     "metadata": {},
     "output_type": "execute_result"
    }
   ],
   "source": [
    "df_prot_info_fil = df_prot_info.dropna(subset='name').drop_duplicates().reset_index(drop=True)\n",
    "df_prot_info_fil['taxa'].nunique()"
   ]
  },
  {
   "cell_type": "code",
   "execution_count": 67,
   "id": "45c31679-cff9-4e4d-860e-05f71b067c8b",
   "metadata": {},
   "outputs": [
    {
     "data": {
      "text/plain": [
       "(369964, 11)"
      ]
     },
     "execution_count": 67,
     "metadata": {},
     "output_type": "execute_result"
    }
   ],
   "source": [
    "df_prot_info_fil.shape"
   ]
  },
  {
   "cell_type": "code",
   "execution_count": 335,
   "id": "c1331632-617c-4147-9643-98da5fbcf278",
   "metadata": {},
   "outputs": [],
   "source": [
    "# Goal: filtering to keep only mappings with consistent taxonmy\n",
    "# taxa_x: taxonomy ID in source (reference)\n",
    "# taxa_y: taxonomy ID from id mapping file generated by `merge` operation\n",
    "#         (may not be accurate because some secondary IDs map to multiple primary IDs regardless of taxonomy information)\n",
    "# df_prot_info['taxa_x'] = df_prot_info['taxa_x'].apply(lambda x: taxa_map_dict[str(x)] if x in taxa_map_dict else x)\n",
    "# df_prot_info['taxa_y'] = df_prot_info['taxa_y'].apply(lambda x: taxa_map_dict[str(x)] if x in taxa_map_dict else x)"
   ]
  },
  {
   "cell_type": "code",
   "execution_count": 336,
   "id": "9ff6f102-4588-48b4-b730-6176851a6478",
   "metadata": {},
   "outputs": [],
   "source": [
    "# remove inconsistent taxa entries\n",
    "# df_prot_info_fil = df_prot_info.query('taxa_x == taxa_y')\n",
    "# df_prot_info_fil = df_prot_info_fil.rename(columns={'taxa_x': 'taxa'}).drop('taxa_y', axis=1)\n",
    "\n",
    "# df_prot_info_fil['primary_short'].nunique()"
   ]
  },
  {
   "cell_type": "code",
   "execution_count": 68,
   "id": "c771ccec-0c65-4187-8e3b-e2326603e830",
   "metadata": {},
   "outputs": [],
   "source": [
    "df_prot_info_fil['is_reviewed'] = (df_prot_info_fil['tag'] == 'sp').astype(int)"
   ]
  },
  {
   "cell_type": "code",
   "execution_count": 69,
   "id": "d84fdc1f-b5ee-4fdd-837b-97e521328a66",
   "metadata": {},
   "outputs": [
    {
     "data": {
      "text/html": [
       "<div>\n",
       "<style scoped>\n",
       "    .dataframe tbody tr th:only-of-type {\n",
       "        vertical-align: middle;\n",
       "    }\n",
       "\n",
       "    .dataframe tbody tr th {\n",
       "        vertical-align: top;\n",
       "    }\n",
       "\n",
       "    .dataframe thead th {\n",
       "        text-align: right;\n",
       "    }\n",
       "</style>\n",
       "<table border=\"1\" class=\"dataframe\">\n",
       "  <thead>\n",
       "    <tr style=\"text-align: right;\">\n",
       "      <th></th>\n",
       "      <th>idtype</th>\n",
       "      <th>id</th>\n",
       "      <th>taxa</th>\n",
       "      <th>UniProt_orig</th>\n",
       "      <th>primary_short</th>\n",
       "      <th>tag</th>\n",
       "      <th>name</th>\n",
       "      <th>length</th>\n",
       "      <th>species</th>\n",
       "      <th>gene_name</th>\n",
       "      <th>description</th>\n",
       "      <th>is_reviewed</th>\n",
       "    </tr>\n",
       "  </thead>\n",
       "  <tbody>\n",
       "    <tr>\n",
       "      <th>0</th>\n",
       "      <td>dip</td>\n",
       "      <td>DIP-445N</td>\n",
       "      <td>10090</td>\n",
       "      <td>P46414</td>\n",
       "      <td>P46414</td>\n",
       "      <td>sp</td>\n",
       "      <td>CDN1B_MOUSE</td>\n",
       "      <td>197.0</td>\n",
       "      <td>Mus musculus</td>\n",
       "      <td>Cdkn1b</td>\n",
       "      <td>Cyclin-dependent kinase inhibitor 1B</td>\n",
       "      <td>1</td>\n",
       "    </tr>\n",
       "    <tr>\n",
       "      <th>1</th>\n",
       "      <td>dip</td>\n",
       "      <td>DIP-617N</td>\n",
       "      <td>9606</td>\n",
       "      <td>P01730</td>\n",
       "      <td>P01730</td>\n",
       "      <td>sp</td>\n",
       "      <td>CD4_HUMAN</td>\n",
       "      <td>458.0</td>\n",
       "      <td>Homo sapiens</td>\n",
       "      <td>CD4</td>\n",
       "      <td>T-cell surface glycoprotein CD4</td>\n",
       "      <td>1</td>\n",
       "    </tr>\n",
       "    <tr>\n",
       "      <th>2</th>\n",
       "      <td>dip</td>\n",
       "      <td>DIP-1025N</td>\n",
       "      <td>562</td>\n",
       "      <td>P00968</td>\n",
       "      <td>P00968</td>\n",
       "      <td>sp</td>\n",
       "      <td>CARB_ECOLI</td>\n",
       "      <td>1073.0</td>\n",
       "      <td>Escherichia coli (strain K12)</td>\n",
       "      <td>carB</td>\n",
       "      <td>Carbamoyl phosphate synthase large chain</td>\n",
       "      <td>1</td>\n",
       "    </tr>\n",
       "    <tr>\n",
       "      <th>3</th>\n",
       "      <td>dip</td>\n",
       "      <td>DIP-19N</td>\n",
       "      <td>7227</td>\n",
       "      <td>P07713</td>\n",
       "      <td>P07713</td>\n",
       "      <td>sp</td>\n",
       "      <td>DECA_DROME</td>\n",
       "      <td>588.0</td>\n",
       "      <td>Drosophila melanogaster</td>\n",
       "      <td>dpp</td>\n",
       "      <td>Protein decapentaplegic</td>\n",
       "      <td>1</td>\n",
       "    </tr>\n",
       "    <tr>\n",
       "      <th>4</th>\n",
       "      <td>dip</td>\n",
       "      <td>DIP-25N</td>\n",
       "      <td>4932</td>\n",
       "      <td>P09798</td>\n",
       "      <td>P09798</td>\n",
       "      <td>sp</td>\n",
       "      <td>CDC16_YEAST</td>\n",
       "      <td>840.0</td>\n",
       "      <td>Saccharomyces cerevisiae (strain ATCC 204508 /...</td>\n",
       "      <td>CDC16</td>\n",
       "      <td>Anaphase-promoting complex subunit CDC16</td>\n",
       "      <td>1</td>\n",
       "    </tr>\n",
       "  </tbody>\n",
       "</table>\n",
       "</div>"
      ],
      "text/plain": [
       "  idtype         id   taxa UniProt_orig primary_short tag         name  \\\n",
       "0    dip   DIP-445N  10090       P46414        P46414  sp  CDN1B_MOUSE   \n",
       "1    dip   DIP-617N   9606       P01730        P01730  sp    CD4_HUMAN   \n",
       "2    dip  DIP-1025N    562       P00968        P00968  sp   CARB_ECOLI   \n",
       "3    dip    DIP-19N   7227       P07713        P07713  sp   DECA_DROME   \n",
       "4    dip    DIP-25N   4932       P09798        P09798  sp  CDC16_YEAST   \n",
       "\n",
       "   length                                            species gene_name  \\\n",
       "0   197.0                                       Mus musculus    Cdkn1b   \n",
       "1   458.0                                       Homo sapiens       CD4   \n",
       "2  1073.0                      Escherichia coli (strain K12)      carB   \n",
       "3   588.0                            Drosophila melanogaster       dpp   \n",
       "4   840.0  Saccharomyces cerevisiae (strain ATCC 204508 /...     CDC16   \n",
       "\n",
       "                                description  is_reviewed  \n",
       "0      Cyclin-dependent kinase inhibitor 1B            1  \n",
       "1           T-cell surface glycoprotein CD4            1  \n",
       "2  Carbamoyl phosphate synthase large chain            1  \n",
       "3                   Protein decapentaplegic            1  \n",
       "4  Anaphase-promoting complex subunit CDC16            1  "
      ]
     },
     "execution_count": 72,
     "metadata": {},
     "output_type": "execute_result"
    }
   ],
   "source": [
    "df_prot_info_fil.head()"
   ]
  },
  {
   "cell_type": "code",
   "execution_count": 73,
   "id": "d5bab16b-cea2-415f-a87e-72b9fec88027",
   "metadata": {},
   "outputs": [],
   "source": [
    "# df_prot_info_fil['info_tup'] = df_prot_info_fil.apply(lambda x: (x['UniProt'], x['is_reviewed']), axis=1)"
   ]
  },
  {
   "cell_type": "code",
   "execution_count": 74,
   "id": "74b3a481-7fba-4d4e-8586-49f99967dc29",
   "metadata": {},
   "outputs": [
    {
     "data": {
      "text/plain": [
       "8111"
      ]
     },
     "execution_count": 74,
     "metadata": {},
     "output_type": "execute_result"
    }
   ],
   "source": [
    "df_prot_info_fil[df_prot_info_fil['gene_name'].isna()]['UniProt_orig'].nunique()"
   ]
  },
  {
   "cell_type": "code",
   "execution_count": 75,
   "id": "7bf07f6a-d4d7-4df1-a4a9-3e4f48ab9d8e",
   "metadata": {},
   "outputs": [
    {
     "data": {
      "text/html": [
       "<div>\n",
       "<style scoped>\n",
       "    .dataframe tbody tr th:only-of-type {\n",
       "        vertical-align: middle;\n",
       "    }\n",
       "\n",
       "    .dataframe tbody tr th {\n",
       "        vertical-align: top;\n",
       "    }\n",
       "\n",
       "    .dataframe thead th {\n",
       "        text-align: right;\n",
       "    }\n",
       "</style>\n",
       "<table border=\"1\" class=\"dataframe\">\n",
       "  <thead>\n",
       "    <tr style=\"text-align: right;\">\n",
       "      <th></th>\n",
       "      <th>idtype</th>\n",
       "      <th>id</th>\n",
       "      <th>taxa</th>\n",
       "      <th>UniProt_orig</th>\n",
       "      <th>primary_short</th>\n",
       "      <th>tag</th>\n",
       "      <th>name</th>\n",
       "      <th>length</th>\n",
       "      <th>species</th>\n",
       "      <th>gene_name</th>\n",
       "      <th>description</th>\n",
       "      <th>is_reviewed</th>\n",
       "    </tr>\n",
       "  </thead>\n",
       "  <tbody>\n",
       "  </tbody>\n",
       "</table>\n",
       "</div>"
      ],
      "text/plain": [
       "Empty DataFrame\n",
       "Columns: [idtype, id, taxa, UniProt_orig, primary_short, tag, name, length, species, gene_name, description, is_reviewed]\n",
       "Index: []"
      ]
     },
     "execution_count": 75,
     "metadata": {},
     "output_type": "execute_result"
    }
   ],
   "source": [
    "df_prot_info_fil[~df_prot_info_fil['UniProt_orig'].isin(sec_merged['secondary']) & \n",
    "                 (df_prot_info_fil['UniProt_orig'] != df_prot_info_fil['primary_short']) & \n",
    "                 ~df_prot_info_fil['UniProt_orig'].str.contains('-')].drop_duplicates('UniProt_orig')"
   ]
  },
  {
   "cell_type": "code",
   "execution_count": 76,
   "id": "5f326116-a53b-4eff-8bd7-69d11ce5586a",
   "metadata": {},
   "outputs": [],
   "source": [
    "na_gene_idx = df_prot_info_fil['gene_name'].isna()\n",
    "is_sec = df_prot_info_fil['UniProt_orig'].isin(sec_merged['secondary'])\n",
    "is_isoform = df_prot_info_fil['UniProt_orig'].str.contains('-')"
   ]
  },
  {
   "cell_type": "code",
   "execution_count": 78,
   "id": "775454b7-9ae5-4e8c-b925-2eeee598a6f4",
   "metadata": {},
   "outputs": [],
   "source": [
    "# sanity check\n",
    "# df_prot_info_fil[na_gene_idx & is_sec]"
   ]
  },
  {
   "cell_type": "code",
   "execution_count": 80,
   "id": "50172761-51ed-4673-ae53-a4e87baf273f",
   "metadata": {},
   "outputs": [],
   "source": [
    "# sanity check\n",
    "# df_prot_info_fil[na_gene_idx & is_isoform]"
   ]
  },
  {
   "cell_type": "markdown",
   "id": "40201b9c-ad4a-46da-9660-ba961fa4c795",
   "metadata": {},
   "source": [
    "#### Reduce to best UniProt IDs by gene"
   ]
  },
  {
   "cell_type": "markdown",
   "id": "600f8672-218f-484a-9344-314448860fd6",
   "metadata": {},
   "source": [
    "##### Fill empty gene name with UniProt ID\n",
    "\n",
    "From sanity check:\n",
    "* UniProt isoforms without gene info are all viral proteins (maybe keep orginal UniProt ID with suffix later) -- use prefix for now\n",
    "* secondary accessions without gene info: use primary accession\n",
    "* others: use primary accessions\n",
    "\n",
    "**Note**\n",
    "For UniProt IDs with suffix ('-PRO', isoform...), now we fill empty gene name with only the prefix (may want to use the full UniProt name in final display)"
   ]
  },
  {
   "cell_type": "code",
   "execution_count": 81,
   "id": "4af00e00-a1a9-438e-ae1d-41155776f2b7",
   "metadata": {},
   "outputs": [],
   "source": [
    "df_prot_info_fil['gene_name_fil'] = df_prot_info_fil['gene_name']\n",
    "df_prot_info_fil.loc[na_gene_idx, 'gene_name_fil'] = df_prot_info_fil.loc[na_gene_idx, 'primary_short']\n",
    "# df_prot_info_fil.loc[na_gene_idx & is_isoform, 'gene_name_fil'] = df_prot_info_fil.loc[na_gene_idx, 'UniProt_orig']"
   ]
  },
  {
   "cell_type": "markdown",
   "id": "d42d04a4-a5e0-46fd-ad91-1567fd2633f5",
   "metadata": {},
   "source": [
    "##### Find best UniProt ID for each gene"
   ]
  },
  {
   "cell_type": "code",
   "execution_count": 82,
   "id": "7ee9c5a2-f3a2-4dd8-a3b9-cd280ab57a5b",
   "metadata": {},
   "outputs": [
    {
     "data": {
      "text/plain": [
       "136874"
      ]
     },
     "execution_count": 82,
     "metadata": {},
     "output_type": "execute_result"
    }
   ],
   "source": [
    "df_prot_info_fil['gene_name_fil'].nunique()"
   ]
  },
  {
   "cell_type": "code",
   "execution_count": 83,
   "id": "78ec9283-12ba-4472-a39a-9d0738463782",
   "metadata": {},
   "outputs": [
    {
     "data": {
      "text/plain": [
       "False"
      ]
     },
     "execution_count": 83,
     "metadata": {},
     "output_type": "execute_result"
    }
   ],
   "source": [
    "df_prot_info_fil['name'].isna().any()"
   ]
  },
  {
   "cell_type": "code",
   "execution_count": 84,
   "id": "d26501e5-d0d0-41a2-9c1c-3e59295d3936",
   "metadata": {},
   "outputs": [
    {
     "data": {
      "text/plain": [
       "286075"
      ]
     },
     "execution_count": 84,
     "metadata": {},
     "output_type": "execute_result"
    }
   ],
   "source": [
    "df_prot_info_fil['id'].nunique()"
   ]
  },
  {
   "cell_type": "code",
   "execution_count": 332,
   "id": "4a756095-1b63-4ce9-b427-4a6bdc68d5b3",
   "metadata": {},
   "outputs": [],
   "source": [
    "# df_prot_info_fil = df_prot_info_fil.sort_values(['gene_name_fil', 'taxa', 'is_reviewed'], ascending=[True, True, False])"
   ]
  },
  {
   "cell_type": "code",
   "execution_count": 154,
   "id": "50c1f662-578a-49c5-85f3-dd12587f524c",
   "metadata": {},
   "outputs": [],
   "source": [
    "# best_by_id = df_prot_info_fil.sort_values(['id','taxa', 'is_reviewed', 'gene_name_fil'], ascending=[True, True, False, True]).drop_duplicates(['id', 'taxa'], keep='first')"
   ]
  },
  {
   "cell_type": "code",
   "execution_count": 85,
   "id": "8d14fe94-3e46-4444-90dc-a61bee6c5d10",
   "metadata": {},
   "outputs": [],
   "source": [
    "best_by_gene = df_prot_info_fil.sort_values(['gene_name', 'taxa', 'is_reviewed'], ascending=[True, True, False]).drop_duplicates(['gene_name_fil', 'taxa'], keep='first')"
   ]
  },
  {
   "cell_type": "code",
   "execution_count": 86,
   "id": "933d7592-9fb8-4e44-be3d-87091349fdb2",
   "metadata": {},
   "outputs": [
    {
     "data": {
      "text/plain": [
       "1    79995\n",
       "0    77171\n",
       "Name: is_reviewed, dtype: int64"
      ]
     },
     "execution_count": 86,
     "metadata": {},
     "output_type": "execute_result"
    }
   ],
   "source": [
    "best_by_gene['is_reviewed'].value_counts()"
   ]
  },
  {
   "cell_type": "code",
   "execution_count": 87,
   "id": "57d16619-8ecb-4f36-9585-0e288bdbacc1",
   "metadata": {},
   "outputs": [
    {
     "data": {
      "text/html": [
       "<div>\n",
       "<style scoped>\n",
       "    .dataframe tbody tr th:only-of-type {\n",
       "        vertical-align: middle;\n",
       "    }\n",
       "\n",
       "    .dataframe tbody tr th {\n",
       "        vertical-align: top;\n",
       "    }\n",
       "\n",
       "    .dataframe thead th {\n",
       "        text-align: right;\n",
       "    }\n",
       "</style>\n",
       "<table border=\"1\" class=\"dataframe\">\n",
       "  <thead>\n",
       "    <tr style=\"text-align: right;\">\n",
       "      <th></th>\n",
       "      <th>taxa</th>\n",
       "      <th>gene_name_fil</th>\n",
       "      <th>primary_short</th>\n",
       "    </tr>\n",
       "  </thead>\n",
       "  <tbody>\n",
       "    <tr>\n",
       "      <th>count</th>\n",
       "      <td>157166</td>\n",
       "      <td>157166</td>\n",
       "      <td>157166</td>\n",
       "    </tr>\n",
       "    <tr>\n",
       "      <th>unique</th>\n",
       "      <td>4015</td>\n",
       "      <td>136874</td>\n",
       "      <td>157166</td>\n",
       "    </tr>\n",
       "    <tr>\n",
       "      <th>top</th>\n",
       "      <td>9606</td>\n",
       "      <td>HA</td>\n",
       "      <td>P03775</td>\n",
       "    </tr>\n",
       "    <tr>\n",
       "      <th>freq</th>\n",
       "      <td>24386</td>\n",
       "      <td>110</td>\n",
       "      <td>1</td>\n",
       "    </tr>\n",
       "  </tbody>\n",
       "</table>\n",
       "</div>"
      ],
      "text/plain": [
       "          taxa gene_name_fil primary_short\n",
       "count   157166        157166        157166\n",
       "unique    4015        136874        157166\n",
       "top       9606            HA        P03775\n",
       "freq     24386           110             1"
      ]
     },
     "execution_count": 87,
     "metadata": {},
     "output_type": "execute_result"
    }
   ],
   "source": [
    "best_by_gene[['taxa', 'gene_name_fil', 'primary_short']].astype({'taxa': str}).describe()"
   ]
  },
  {
   "cell_type": "code",
   "execution_count": 91,
   "id": "7adc5f8e-18e5-4952-aa71-75fce8a133af",
   "metadata": {},
   "outputs": [],
   "source": [
    "gene2best_uprot_bytaxa = defaultdict(dict)\n",
    "\n",
    "for cur_tid in best_by_gene['taxa'].unique():\n",
    "    df_taxa = best_by_gene.query('taxa == @cur_tid')\n",
    "    gene2best_uprot_bytaxa[cur_tid] = dict(zip(df_taxa['gene_name_fil'], df_taxa['primary_short']))"
   ]
  },
  {
   "cell_type": "code",
   "execution_count": 92,
   "id": "97276c47-bba2-4404-bbb9-dfb5588cf4ea",
   "metadata": {},
   "outputs": [],
   "source": [
    "with open(output_root / 'cache/gene2best_uprot_bytaxa.json', 'w') as f:\n",
    "    json.dump(gene2best_uprot_bytaxa, f, indent=2)"
   ]
  },
  {
   "cell_type": "code",
   "execution_count": 93,
   "id": "81b0b4e3-2af4-445e-a281-5768db04b59a",
   "metadata": {},
   "outputs": [
    {
     "data": {
      "text/plain": [
       "1263"
      ]
     },
     "execution_count": 93,
     "metadata": {},
     "output_type": "execute_result"
    }
   ],
   "source": [
    "len(set(taxa_map_dict.values()))"
   ]
  },
  {
   "cell_type": "code",
   "execution_count": 120,
   "id": "66c9bc2a-64a8-4904-8903-5383b4a4013e",
   "metadata": {},
   "outputs": [],
   "source": [
    "df_prot_info_fil['length'] = df_prot_info_fil['length'].astype(int)"
   ]
  },
  {
   "cell_type": "code",
   "execution_count": 94,
   "id": "19603ea0-2374-42e1-894b-b987bc8cba01",
   "metadata": {},
   "outputs": [],
   "source": [
    "df_prot_info_fil['best_uprot'] = df_prot_info_fil.apply(lambda x: gene2best_uprot_bytaxa[x['taxa']][x['gene_name_fil']], axis=1)"
   ]
  },
  {
   "cell_type": "code",
   "execution_count": 122,
   "id": "63c3a83b-d475-4291-897a-d58d23e286c9",
   "metadata": {},
   "outputs": [],
   "source": [
    "df_prot_info_fil.drop_duplicates().to_csv(output_root / 'cache/mapped_to_best_uprot.txt', sep='\\t', index=False)"
   ]
  },
  {
   "cell_type": "code",
   "execution_count": null,
   "id": "ebbc27c2-e48b-4088-af82-a674146ecfc1",
   "metadata": {},
   "outputs": [],
   "source": []
  },
  {
   "cell_type": "markdown",
   "id": "b777b5cc-d4e8-45de-844e-b30dd4253df5",
   "metadata": {},
   "source": [
    "### Apply best UniProt mapping to interactions"
   ]
  },
  {
   "cell_type": "code",
   "execution_count": null,
   "id": "525ae7b0-8390-419c-8f5c-6139b9472c9f",
   "metadata": {},
   "outputs": [],
   "source": [
    "# Load supporting documents from cache (if necessary)\n",
    "\n",
    "# taxa ID mapping\n",
    "with open(output_root / 'cache/taxa_map_dict.json', 'r') as f:\n",
    "    taxa_map_dict = json.load(f)\n",
    "\n",
    "# best UniProt ID mapping (by gene and taxa)\n",
    "with open(output_root / 'cache/gene2best_uprot_bytaxa.json', 'r') as f:\n",
    "    gene2best_uprot_bytaxa = json.load(f)\n",
    "\n",
    "# species information\n",
    "df_species = pd.read_csv(source_root / 'docs/cache/species_parsed.txt', sep='\\t')\n",
    "\n",
    "# protein descriptions\n",
    "df_desc = pd.read_csv(output_root / 'cache/uniprot_descriptions.txt', sep='\\t')\n",
    "\n",
    "# ID mapping (to best UniProt)\n",
    "df_prot_info_fil = pd.read_csv(output_root / 'cache/mapped_to_best_uprot.txt', sep='\\t', \n",
    "                            dtype={'id': str, 'taxa': str, 'gene_name': str, 'gene_name_fil': str})\n",
    "\n",
    "# Raw interactions with filled UniProt (orig)\n",
    "raw_ppi_filled = pd.read_csv(output_root / 'cache/raw_interactions_filled_all.txt', sep='\\t', dtype={'method': str, 'taxa': str, 'publ': str})"
   ]
  },
  {
   "cell_type": "code",
   "execution_count": 319,
   "id": "0c8e1b82-d028-48eb-bd44-76ef8b1d4bea",
   "metadata": {},
   "outputs": [],
   "source": [
    "df_prot_info_fil = pd.read_csv(output_root / 'cache/mapped_to_best_uprot.txt', sep='\\t', \n",
    "                            dtype={'id': str, 'taxa': str, 'gene_name': str, 'gene_name_fil': str})"
   ]
  },
  {
   "cell_type": "code",
   "execution_count": 301,
   "id": "f261d5be-6f02-4818-a132-7bb2bea8837d",
   "metadata": {},
   "outputs": [],
   "source": [
    "dtype_dict = {'method': str, 'idA': str, 'idB': str, 'taxa': str, 'publ': str}\n",
    "\n",
    "raw_ppi_filled = pd.read_csv(output_root / 'cache/raw_interactions_filled_all.txt', sep='\\t', dtype=dtype_dict)"
   ]
  },
  {
   "cell_type": "markdown",
   "id": "16c675f1-0169-40b5-852d-e5656655772f",
   "metadata": {},
   "source": [
    "* drop interactions with NA taxonamy ID"
   ]
  },
  {
   "cell_type": "code",
   "execution_count": 107,
   "id": "a7457411-4260-4c1a-a6bf-b1f6262c88c5",
   "metadata": {},
   "outputs": [],
   "source": [
    "raw_ppi_filled = raw_ppi_filled.dropna(subset=['taxa']).reset_index(drop=True)"
   ]
  },
  {
   "cell_type": "code",
   "execution_count": 108,
   "id": "4f35a7be-634b-4c3f-baa9-c498b775988b",
   "metadata": {},
   "outputs": [
    {
     "data": {
      "text/plain": [
       "False"
      ]
     },
     "execution_count": 108,
     "metadata": {},
     "output_type": "execute_result"
    }
   ],
   "source": [
    "raw_ppi_filled['taxa'].isna().any()"
   ]
  },
  {
   "cell_type": "code",
   "execution_count": 109,
   "id": "b82f59c8-0832-408e-b77b-4c043fe5a0e7",
   "metadata": {},
   "outputs": [
    {
     "data": {
      "text/plain": [
       "157166"
      ]
     },
     "execution_count": 109,
     "metadata": {},
     "output_type": "execute_result"
    }
   ],
   "source": [
    "df_prot_info_fil['best_uprot'].nunique()"
   ]
  },
  {
   "cell_type": "code",
   "execution_count": 111,
   "id": "1900c4bc-84ce-4be3-9a8a-a60f7e780f9c",
   "metadata": {},
   "outputs": [],
   "source": [
    "# Additional cleaning steps\n",
    "if raw_ppi_filled['taxa'].str.contains('\\.').any():\n",
    "    raw_ppi_filled['taxa'] = raw_ppi_filled['taxa'].apply(lambda x: str(x).split('.')[0])\n",
    "if raw_ppi_filled['idA'].str.contains(' ').any():\n",
    "    raw_ppi_filled['idA'] = raw_ppi_filled['idA'].apply(lambda x: str(x).split(' ')[0].strip())\n",
    "if raw_ppi_filled['idB'].str.contains(' ').any():\n",
    "    raw_ppi_filled['idB'] = raw_ppi_filled['idB'].apply(lambda x: str(x).split(' ')[0].strip())"
   ]
  },
  {
   "cell_type": "code",
   "execution_count": 112,
   "id": "2f3d6cdb-0769-41a3-b5ee-fd90944f0c45",
   "metadata": {},
   "outputs": [
    {
     "data": {
      "text/plain": [
       "(5159751, 11)"
      ]
     },
     "execution_count": 112,
     "metadata": {},
     "output_type": "execute_result"
    }
   ],
   "source": [
    "raw_ppi_filled.shape"
   ]
  },
  {
   "cell_type": "code",
   "execution_count": 295,
   "id": "81ec94e5-7d3d-4411-800f-a0cfcdb6ed2a",
   "metadata": {},
   "outputs": [],
   "source": [
    "# raw_ppi_filled.drop('row_number', axis=1).describe()"
   ]
  },
  {
   "cell_type": "code",
   "execution_count": 305,
   "id": "5acda48b-752a-4532-84df-741732fc5ca8",
   "metadata": {},
   "outputs": [],
   "source": [
    "# check secondary accessions\n",
    "# is_sec = df_prot_info_fil['UniProt_orig'].isin(sec_merged['secondary'])\n",
    "# df_prot_info_fil[is_sec]"
   ]
  },
  {
   "cell_type": "markdown",
   "id": "2f94fc21-441b-401f-9f39-9805c2ed035c",
   "metadata": {},
   "source": [
    "#### Revise for isoform"
   ]
  },
  {
   "cell_type": "code",
   "execution_count": 113,
   "id": "7ceba304-9fcb-4b75-ae0b-565e2a7135cf",
   "metadata": {},
   "outputs": [],
   "source": [
    "is_isoform = df_prot_info_fil['UniProt_orig'].str.contains('-')\n",
    "is_sec = df_prot_info_fil['UniProt_orig'].isin(sec_merged['secondary'])\n",
    "\n",
    "df_prot_info_fil['best_uprot_full'] = df_prot_info_fil['best_uprot']\n",
    "df_prot_info_fil.loc[is_isoform, 'best_uprot_full'] = df_prot_info_fil.loc[is_isoform, 'UniProt_orig']\n",
    "\n",
    "# use original UniProt ID when given in source\n",
    "uprot_source_idx = df_prot_info_fil['idtype'].str.contains('uniprot') & (df_prot_info_fil['UniProt_orig'].str.contains('-'))\n",
    "df_prot_info_fil.loc[uprot_source_idx & ~is_sec, 'best_uprot_full'] = df_prot_info_fil.loc[uprot_source_idx, 'UniProt_orig']"
   ]
  },
  {
   "cell_type": "code",
   "execution_count": 114,
   "id": "8fed9ca4-af52-4b80-bf39-7868b511fbbc",
   "metadata": {},
   "outputs": [
    {
     "data": {
      "text/html": [
       "<div>\n",
       "<style scoped>\n",
       "    .dataframe tbody tr th:only-of-type {\n",
       "        vertical-align: middle;\n",
       "    }\n",
       "\n",
       "    .dataframe tbody tr th {\n",
       "        vertical-align: top;\n",
       "    }\n",
       "\n",
       "    .dataframe thead th {\n",
       "        text-align: right;\n",
       "    }\n",
       "</style>\n",
       "<table border=\"1\" class=\"dataframe\">\n",
       "  <thead>\n",
       "    <tr style=\"text-align: right;\">\n",
       "      <th></th>\n",
       "      <th>idtype</th>\n",
       "      <th>id</th>\n",
       "      <th>taxa</th>\n",
       "      <th>UniProt_orig</th>\n",
       "      <th>primary_short</th>\n",
       "      <th>tag</th>\n",
       "      <th>name</th>\n",
       "      <th>length</th>\n",
       "      <th>species</th>\n",
       "      <th>gene_name</th>\n",
       "      <th>description</th>\n",
       "      <th>is_reviewed</th>\n",
       "      <th>gene_name_fil</th>\n",
       "      <th>best_uprot</th>\n",
       "      <th>best_uprot_full</th>\n",
       "    </tr>\n",
       "  </thead>\n",
       "  <tbody>\n",
       "    <tr>\n",
       "      <th>233794</th>\n",
       "      <td>refseq</td>\n",
       "      <td>NP_536350.2</td>\n",
       "      <td>9606</td>\n",
       "      <td>P63092</td>\n",
       "      <td>P63092</td>\n",
       "      <td>sp</td>\n",
       "      <td>GNAS2_HUMAN</td>\n",
       "      <td>394.0</td>\n",
       "      <td>Homo sapiens</td>\n",
       "      <td>GNAS</td>\n",
       "      <td>Guanine nucleotide-binding protein G(s) subuni...</td>\n",
       "      <td>1</td>\n",
       "      <td>GNAS</td>\n",
       "      <td>P63092</td>\n",
       "      <td>P63092</td>\n",
       "    </tr>\n",
       "    <tr>\n",
       "      <th>233795</th>\n",
       "      <td>refseq</td>\n",
       "      <td>NP_536350.2</td>\n",
       "      <td>9606</td>\n",
       "      <td>Q5JWF2-1</td>\n",
       "      <td>Q5JWF2</td>\n",
       "      <td>sp</td>\n",
       "      <td>GNAS1_HUMAN</td>\n",
       "      <td>1037.0</td>\n",
       "      <td>Homo sapiens</td>\n",
       "      <td>GNAS</td>\n",
       "      <td>Guanine nucleotide-binding protein G(s) subuni...</td>\n",
       "      <td>1</td>\n",
       "      <td>GNAS</td>\n",
       "      <td>P63092</td>\n",
       "      <td>Q5JWF2-1</td>\n",
       "    </tr>\n",
       "  </tbody>\n",
       "</table>\n",
       "</div>"
      ],
      "text/plain": [
       "        idtype           id  taxa UniProt_orig primary_short tag         name  \\\n",
       "233794  refseq  NP_536350.2  9606       P63092        P63092  sp  GNAS2_HUMAN   \n",
       "233795  refseq  NP_536350.2  9606     Q5JWF2-1        Q5JWF2  sp  GNAS1_HUMAN   \n",
       "\n",
       "        length       species gene_name  \\\n",
       "233794   394.0  Homo sapiens      GNAS   \n",
       "233795  1037.0  Homo sapiens      GNAS   \n",
       "\n",
       "                                              description  is_reviewed  \\\n",
       "233794  Guanine nucleotide-binding protein G(s) subuni...            1   \n",
       "233795  Guanine nucleotide-binding protein G(s) subuni...            1   \n",
       "\n",
       "       gene_name_fil best_uprot best_uprot_full  \n",
       "233794          GNAS     P63092          P63092  \n",
       "233795          GNAS     P63092        Q5JWF2-1  "
      ]
     },
     "execution_count": 114,
     "metadata": {},
     "output_type": "execute_result"
    }
   ],
   "source": [
    "df_prot_info_fil.query('id == \"NP_536350.2\"')"
   ]
  },
  {
   "cell_type": "markdown",
   "id": "18cdc1eb-2e9b-4cbe-beeb-d6cf2b1c044e",
   "metadata": {},
   "source": [
    "* reduce to unique ID mapping (some raw IDs map to multiple gene names --> multiple UniProt IDs)"
   ]
  },
  {
   "cell_type": "code",
   "execution_count": 115,
   "id": "3e495928-92c1-4e17-8300-8c498f8ac668",
   "metadata": {},
   "outputs": [],
   "source": [
    "# best Uniprot same as original UniProt ID or not\n",
    "df_prot_info_fil['same_uprot'] = (df_prot_info_fil['primary_short'] == df_prot_info_fil['best_uprot_full']).astype(int)\n",
    "df_prot_info_fil['is_canonical'] = ~df_prot_info_fil['best_uprot_full'].str.contains('-')"
   ]
  },
  {
   "cell_type": "code",
   "execution_count": 123,
   "id": "db0efd84-56fe-4f39-916e-a538f2071861",
   "metadata": {},
   "outputs": [],
   "source": [
    "to_best_uprot = df_prot_info_fil.sort_values(['id', 'taxa', 'is_reviewed', 'same_uprot', 'is_canonical', 'best_uprot_full'],\n",
    "                                          ascending=[True, True, False, False, False, False]).drop_duplicates(['idtype', 'id', 'taxa'], keep='first').reset_index(drop=True)"
   ]
  },
  {
   "cell_type": "markdown",
   "id": "d01c3ac4-7b6f-4cf9-a065-1001151e5fb4",
   "metadata": {},
   "source": [
    "* save cache file"
   ]
  },
  {
   "cell_type": "code",
   "execution_count": 124,
   "id": "052c1ef9-9eaa-4bbf-a8a5-d0b440e25fea",
   "metadata": {},
   "outputs": [],
   "source": [
    "to_best_uprot.to_csv(output_root / 'cache/id_to_best_uprot_uniq.txt', index=False, sep='\\t')"
   ]
  },
  {
   "cell_type": "code",
   "execution_count": 125,
   "id": "ed2b0f53-1463-4c36-a4e1-00e6257d7ed9",
   "metadata": {},
   "outputs": [],
   "source": [
    "all_taxa = to_best_uprot['taxa'].unique()\n",
    "\n",
    "uniq_id_mapping_by_taxa = dict()\n",
    "\n",
    "for taxa in all_taxa:\n",
    "    df_cur = to_best_uprot.query('taxa == @taxa')\n",
    "    uniq_id_mapping_by_taxa[taxa] = dict(zip(df_cur['id'], df_cur['best_uprot']))"
   ]
  },
  {
   "cell_type": "code",
   "execution_count": null,
   "id": "057afd56-9f5c-4b64-93e9-91288e11a904",
   "metadata": {},
   "outputs": [],
   "source": []
  },
  {
   "cell_type": "markdown",
   "id": "77d984f6-a17a-4cf5-9553-9792f2d90e70",
   "metadata": {},
   "source": [
    "#### Revise taxonomy ID in raw interaction data"
   ]
  },
  {
   "cell_type": "code",
   "execution_count": 126,
   "id": "8aa76e45-b7f1-4e30-8f13-c4e736a836de",
   "metadata": {},
   "outputs": [
    {
     "name": "stdout",
     "output_type": "stream",
     "text": [
      "1\n"
     ]
    }
   ],
   "source": [
    "print(raw_ppi_filled[raw_ppi_filled['taxa'] == '-']['row_number'].nunique())\n",
    "raw_ppi_filled = raw_ppi_filled.query('taxa != \"-\"').reset_index(drop=True)\n",
    "raw_ppi_filled['taxa_rev'] = raw_ppi_filled['taxa'].apply(lambda x: int(taxa_map_dict.get(str(x), x))).astype(str)"
   ]
  },
  {
   "cell_type": "code",
   "execution_count": 127,
   "id": "aa961167-e2fd-4365-b2f4-87a576ff6655",
   "metadata": {},
   "outputs": [
    {
     "data": {
      "text/plain": [
       "'7227'"
      ]
     },
     "execution_count": 127,
     "metadata": {},
     "output_type": "execute_result"
    }
   ],
   "source": [
    "to_best_uprot.query('best_uprot_full == \"X2JAU8\"').iloc[0]['taxa']"
   ]
  },
  {
   "cell_type": "code",
   "execution_count": 128,
   "id": "099a45b1-d87c-4ffa-9d1a-058b6165fff8",
   "metadata": {},
   "outputs": [
    {
     "data": {
      "text/plain": [
       "'7227'"
      ]
     },
     "execution_count": 128,
     "metadata": {},
     "output_type": "execute_result"
    }
   ],
   "source": [
    "raw_ppi_filled.query('row_number == 1533613').iloc[0]['taxa_rev']"
   ]
  },
  {
   "cell_type": "code",
   "execution_count": 129,
   "id": "8bba274e-1e98-40a9-973f-97eee68f2bd1",
   "metadata": {},
   "outputs": [
    {
     "data": {
      "text/plain": [
       "dtype('O')"
      ]
     },
     "execution_count": 129,
     "metadata": {},
     "output_type": "execute_result"
    }
   ],
   "source": [
    "raw_ppi_filled['taxa_rev'].dtype"
   ]
  },
  {
   "cell_type": "code",
   "execution_count": 130,
   "id": "a5dfa74d-15bb-49f4-b520-367cdbdbbf7d",
   "metadata": {},
   "outputs": [],
   "source": [
    "cols = ['idtype', 'id', 'taxa', 'gene_name', 'name', 'best_uprot_full']\n",
    "ppi_merge = raw_ppi_filled.drop('taxa', axis=1).rename(columns={'taxa_rev': 'taxa'}).\\\n",
    "                merge(to_best_uprot[cols], left_on=['idtype_A', 'idA', 'taxa'], right_on=['idtype', 'id', 'taxa'], how='left').\\\n",
    "                rename(columns={'best_uprot_full': 'best_uprotA', 'gene_name': 'gene_name_A', 'name': 'entry_name_A'}).drop(columns=['idtype', 'id'])\n",
    "ppi_merge = ppi_merge.merge(to_best_uprot[cols], left_on=['idtype_B', 'idB', 'taxa'], right_on=['idtype', 'id', 'taxa'], how='left').\\\n",
    "                rename(columns={'best_uprot_full': 'best_uprotB', 'gene_name': 'gene_name_B', 'name': 'entry_name_B'}).drop(columns=['idtype', 'id'])"
   ]
  },
  {
   "cell_type": "code",
   "execution_count": 131,
   "id": "9ac3b154-2d99-425d-be17-ace6218f1b19",
   "metadata": {},
   "outputs": [
    {
     "data": {
      "text/plain": [
       "(2412708, 17)"
      ]
     },
     "execution_count": 131,
     "metadata": {},
     "output_type": "execute_result"
    }
   ],
   "source": [
    "ppi_merge[ppi_merge['best_uprotA'].notna() & ppi_merge['best_uprotB'].notna()].drop_duplicates(['best_uprotA', 'best_uprotB']).shape"
   ]
  },
  {
   "cell_type": "code",
   "execution_count": null,
   "id": "05b498c1-91ee-4d90-815c-61573e01595f",
   "metadata": {},
   "outputs": [],
   "source": []
  },
  {
   "cell_type": "markdown",
   "id": "ac396889-3a2a-4ca4-a663-c28ec35f58c4",
   "metadata": {},
   "source": [
    "### Apply filtering conditions"
   ]
  },
  {
   "cell_type": "code",
   "execution_count": null,
   "id": "fb520926-0101-4582-894e-7ea2c8bb25a7",
   "metadata": {},
   "outputs": [],
   "source": [
    "# dtype_dict = {'method': str, 'idA': str, 'idB': str, 'gene_name_A': str, 'gene_name_B': str}\n",
    "# ppi_merge = pd.read_csv(output_root / 'cache/raw_interactome_draft.txt', sep='\\t', dtype=dtype_dict)\n",
    "# print(ppi_merge.shape[0])"
   ]
  },
  {
   "cell_type": "code",
   "execution_count": 132,
   "id": "d2051f52-f53a-4b48-8ff3-a5c00e68e647",
   "metadata": {},
   "outputs": [
    {
     "data": {
      "text/plain": [
       "(5159749, 17)"
      ]
     },
     "execution_count": 132,
     "metadata": {},
     "output_type": "execute_result"
    }
   ],
   "source": [
    "ppi_merge.shape"
   ]
  },
  {
   "cell_type": "code",
   "execution_count": 133,
   "id": "ed5cdd4a-e18a-4433-ac81-bcf89dec24ad",
   "metadata": {},
   "outputs": [
    {
     "name": "stdout",
     "output_type": "stream",
     "text": [
      "Missing raw ID: 0\n"
     ]
    },
    {
     "data": {
      "text/plain": [
       "(5159749, 17)"
      ]
     },
     "execution_count": 133,
     "metadata": {},
     "output_type": "execute_result"
    }
   ],
   "source": [
    "print(\"Missing raw ID:\", ppi_merge[ppi_merge['idA'].isna() | ppi_merge['idB'].isna()].shape[0])\n",
    "ppi_merge = ppi_merge[ppi_merge['idA'].notna() & ppi_merge['idB'].notna()].reset_index(drop=True)\n",
    "ppi_merge.shape"
   ]
  },
  {
   "cell_type": "code",
   "execution_count": 134,
   "id": "95044f22-5412-4971-aabf-e7858331847f",
   "metadata": {},
   "outputs": [],
   "source": [
    "ppi_merge.to_csv(output_root / 'cache/raw_interactome_draft.txt', index=False, sep='\\t')"
   ]
  },
  {
   "cell_type": "code",
   "execution_count": 135,
   "id": "771b87d4-5a85-4b0f-b72a-d39d1c999de1",
   "metadata": {},
   "outputs": [
    {
     "data": {
      "text/plain": [
       "False"
      ]
     },
     "execution_count": 135,
     "metadata": {},
     "output_type": "execute_result"
    }
   ],
   "source": [
    "# sanity check for missing taxonomy ID\n",
    "ppi_merge['taxa'].isna().any()"
   ]
  },
  {
   "cell_type": "markdown",
   "id": "313bd369-c964-404d-8d79-be67008a84bd",
   "metadata": {},
   "source": [
    "#### Proceed with interactions having complete UniProt information"
   ]
  },
  {
   "cell_type": "code",
   "execution_count": 136,
   "id": "9d47351c-2966-43bf-96ae-8c1c44dcf6a7",
   "metadata": {},
   "outputs": [
    {
     "name": "stdout",
     "output_type": "stream",
     "text": [
      "4795949\n"
     ]
    }
   ],
   "source": [
    "# interactions with complete UniProt information\n",
    "ppi_complete = ppi_merge[ppi_merge['best_uprotA'].notna() & ppi_merge['best_uprotB'].notna()].reset_index(drop=True)\n",
    "print(ppi_complete.shape[0])"
   ]
  },
  {
   "cell_type": "code",
   "execution_count": 137,
   "id": "699fd448-3a7c-4964-a2ea-c16fc55cd7ba",
   "metadata": {},
   "outputs": [],
   "source": [
    "# Unique interaction ID (sorted by UniProt ID)\n",
    "ppi_complete['ppi'] = ppi_complete.apply(lambda x: ':'.join(sorted([x['best_uprotA'], x['best_uprotB']])), axis=1)"
   ]
  },
  {
   "cell_type": "code",
   "execution_count": 138,
   "id": "e8cd304b-0ca3-4518-9f63-6c50f4034d89",
   "metadata": {},
   "outputs": [
    {
     "data": {
      "text/plain": [
       "2082317"
      ]
     },
     "execution_count": 138,
     "metadata": {},
     "output_type": "execute_result"
    }
   ],
   "source": [
    "ppi_complete['ppi'].nunique()"
   ]
  },
  {
   "cell_type": "markdown",
   "id": "11198e19-8721-4947-9522-5e4f8419f907",
   "metadata": {},
   "source": [
    "* Cleanup evidence code (remove punctuations)"
   ]
  },
  {
   "cell_type": "code",
   "execution_count": 139,
   "id": "20b57588-01ec-49a8-ac5e-ffbc9b140720",
   "metadata": {},
   "outputs": [],
   "source": [
    "pat = re.compile(\"[\" + re.escape(string.punctuation) + \"]\")"
   ]
  },
  {
   "cell_type": "code",
   "execution_count": 140,
   "id": "efd61bfb-c5f8-44e8-9bd4-8215da1ad333",
   "metadata": {},
   "outputs": [
    {
     "data": {
      "text/plain": [
       "True"
      ]
     },
     "execution_count": 140,
     "metadata": {},
     "output_type": "execute_result"
    }
   ],
   "source": [
    "# sanity check\n",
    "ppi_complete['method'].str.contains(pat).any()"
   ]
  },
  {
   "cell_type": "code",
   "execution_count": 141,
   "id": "0b6134a1-ca20-40e0-a407-2c00c5eae4ad",
   "metadata": {},
   "outputs": [],
   "source": [
    "ppi_complete['method'] = ppi_complete['method'].apply(lambda x: re.sub(pat, '', x))"
   ]
  },
  {
   "cell_type": "code",
   "execution_count": 142,
   "id": "92322b7f-0b1c-40fb-8ff1-a5e38e91489a",
   "metadata": {},
   "outputs": [
    {
     "data": {
      "text/plain": [
       "array(['0055 fluore', '0012 biolumine'], dtype=object)"
      ]
     },
     "execution_count": 142,
     "metadata": {},
     "output_type": "execute_result"
    }
   ],
   "source": [
    "# some contains space and description\n",
    "ppi_complete[ppi_complete['method'].str.len() > 4]['method'].unique()"
   ]
  },
  {
   "cell_type": "code",
   "execution_count": 143,
   "id": "496d339f-8ecd-47f9-a466-573deb310cb3",
   "metadata": {},
   "outputs": [],
   "source": [
    "ppi_complete.loc[ppi_complete['method'].str.len() > 4, 'method'] = ppi_complete.loc[ppi_complete['method'].str.len() > 4, 'method'].apply(lambda x: x.split(' ')[0])"
   ]
  },
  {
   "cell_type": "markdown",
   "id": "2080af4f-f1b3-4b6c-97bf-5139af76676a",
   "metadata": {},
   "source": [
    "* Cleanup publication ID"
   ]
  },
  {
   "cell_type": "code",
   "execution_count": 152,
   "id": "2933328c-21c4-494a-807a-386769b667fd",
   "metadata": {},
   "outputs": [],
   "source": [
    "ppi_complete['publ'] = ppi_complete['publ'].astype(str)"
   ]
  },
  {
   "cell_type": "code",
   "execution_count": 144,
   "id": "0e426eec-8d61-49ff-810b-d5d6eb84344e",
   "metadata": {},
   "outputs": [
    {
     "data": {
      "text/plain": [
       "True"
      ]
     },
     "execution_count": 144,
     "metadata": {},
     "output_type": "execute_result"
    }
   ],
   "source": [
    "ppi_complete['publ'].str.contains(':').any()"
   ]
  },
  {
   "cell_type": "code",
   "execution_count": 154,
   "id": "3b1b8697-aa23-4ad3-ba27-48ad6c73f4df",
   "metadata": {},
   "outputs": [
    {
     "data": {
      "text/html": [
       "<div>\n",
       "<style scoped>\n",
       "    .dataframe tbody tr th:only-of-type {\n",
       "        vertical-align: middle;\n",
       "    }\n",
       "\n",
       "    .dataframe tbody tr th {\n",
       "        vertical-align: top;\n",
       "    }\n",
       "\n",
       "    .dataframe thead th {\n",
       "        text-align: right;\n",
       "    }\n",
       "</style>\n",
       "<table border=\"1\" class=\"dataframe\">\n",
       "  <thead>\n",
       "    <tr style=\"text-align: right;\">\n",
       "      <th></th>\n",
       "      <th>source</th>\n",
       "      <th>row_number</th>\n",
       "      <th>idA</th>\n",
       "      <th>idB</th>\n",
       "      <th>method</th>\n",
       "      <th>publ</th>\n",
       "      <th>idtype_A</th>\n",
       "      <th>idtype_B</th>\n",
       "      <th>UniProt_A</th>\n",
       "      <th>UniProt_B</th>\n",
       "      <th>taxa</th>\n",
       "      <th>gene_name_A</th>\n",
       "      <th>entry_name_A</th>\n",
       "      <th>best_uprotA</th>\n",
       "      <th>gene_name_B</th>\n",
       "      <th>entry_name_B</th>\n",
       "      <th>best_uprotB</th>\n",
       "      <th>ppi</th>\n",
       "    </tr>\n",
       "  </thead>\n",
       "  <tbody>\n",
       "  </tbody>\n",
       "</table>\n",
       "</div>"
      ],
      "text/plain": [
       "Empty DataFrame\n",
       "Columns: [source, row_number, idA, idB, method, publ, idtype_A, idtype_B, UniProt_A, UniProt_B, taxa, gene_name_A, entry_name_A, best_uprotA, gene_name_B, entry_name_B, best_uprotB, ppi]\n",
       "Index: []"
      ]
     },
     "execution_count": 154,
     "metadata": {},
     "output_type": "execute_result"
    }
   ],
   "source": [
    "ppi_complete[ppi_complete['publ'].isna()]"
   ]
  },
  {
   "cell_type": "code",
   "execution_count": 153,
   "id": "c26dbb3f-b9b8-472a-8740-e9b3c87f6fd7",
   "metadata": {},
   "outputs": [],
   "source": [
    "# additional cleaning for some entries (from DIP, e.g. rtd:11250202, these are pubmed ID)\n",
    "ppi_complete.loc[ppi_complete['publ'].str.contains(':'), 'publ'] = ppi_complete.loc[ppi_complete['publ'].str.contains(':'), 'publ'].apply(lambda x: x.split(':')[1])"
   ]
  },
  {
   "cell_type": "markdown",
   "id": "f4cee2b3-6c57-4330-9911-dd2481304742",
   "metadata": {},
   "source": [
    "#### Unique interactions"
   ]
  },
  {
   "cell_type": "code",
   "execution_count": 155,
   "id": "fbdcb9f6-5c90-495e-a299-6925bba10b7d",
   "metadata": {},
   "outputs": [
    {
     "data": {
      "text/plain": [
       "(3999239, 18)"
      ]
     },
     "execution_count": 155,
     "metadata": {},
     "output_type": "execute_result"
    }
   ],
   "source": [
    "ppi_uniq = ppi_complete.drop_duplicates(['source', 'ppi', 'taxa', 'publ', 'method']).reset_index(drop=True)\n",
    "ppi_uniq.shape"
   ]
  },
  {
   "cell_type": "code",
   "execution_count": 156,
   "id": "45231168-384b-4d29-9c35-a9cbbf0fe88b",
   "metadata": {},
   "outputs": [
    {
     "data": {
      "text/plain": [
       "1"
      ]
     },
     "execution_count": 156,
     "metadata": {},
     "output_type": "execute_result"
    }
   ],
   "source": [
    "# sanity check: any interactions with multiple taxa ID?\n",
    "ppi_uniq.groupby('ppi')['taxa'].nunique().max()"
   ]
  },
  {
   "cell_type": "code",
   "execution_count": 157,
   "id": "def6371e-ba8c-48f9-a545-68a6abfdfdcf",
   "metadata": {},
   "outputs": [
    {
     "data": {
      "text/plain": [
       "2082317"
      ]
     },
     "execution_count": 157,
     "metadata": {},
     "output_type": "execute_result"
    }
   ],
   "source": [
    "ppi_uniq['ppi'].nunique()"
   ]
  },
  {
   "cell_type": "code",
   "execution_count": 158,
   "id": "0633e8b2-1afa-4652-85f0-92976b2a0d7a",
   "metadata": {},
   "outputs": [],
   "source": [
    "ppi_uniq['pmid_method'] = ppi_uniq.apply(lambda x: '{}:{}'.format(x['publ'], x['method']), axis=1)"
   ]
  },
  {
   "cell_type": "code",
   "execution_count": 160,
   "id": "dcf4e39d-afc5-4e20-bb83-56661fa2403d",
   "metadata": {},
   "outputs": [],
   "source": [
    "ppi_uniq.to_csv(output_root / 'cache/raw_interactome_merge_uniq.txt', index=False, sep='\\t')"
   ]
  },
  {
   "cell_type": "code",
   "execution_count": 161,
   "id": "4e168ce4-3575-4671-9f49-cf09c81e4d2e",
   "metadata": {},
   "outputs": [
    {
     "data": {
      "text/plain": [
       "(3999239, 19)"
      ]
     },
     "execution_count": 161,
     "metadata": {},
     "output_type": "execute_result"
    }
   ],
   "source": [
    "ppi_uniq.shape"
   ]
  },
  {
   "cell_type": "markdown",
   "id": "2fea8346-ae81-4c8f-ad69-b5e3a3b84078",
   "metadata": {},
   "source": [
    "### Prepare for output"
   ]
  },
  {
   "cell_type": "code",
   "execution_count": 162,
   "id": "9ec75795-172d-4e76-9d5a-dafb4a02f0a7",
   "metadata": {},
   "outputs": [],
   "source": [
    "ppi_agg = ppi_uniq.groupby('ppi').agg({'source': set, 'pmid_method': set}).reset_index()\n",
    "ppi_agg['source'] = ppi_agg['source'].apply(lambda x: '|'.join(sorted(x)))\n",
    "ppi_agg['pmid_method'] = ppi_agg['pmid_method'].apply(lambda x: '|'.join(sorted(x)))"
   ]
  },
  {
   "cell_type": "code",
   "execution_count": 163,
   "id": "d9c9479e-d1d9-47c8-9b0d-e4ed3b6582f1",
   "metadata": {},
   "outputs": [
    {
     "data": {
      "text/html": [
       "<div>\n",
       "<style scoped>\n",
       "    .dataframe tbody tr th:only-of-type {\n",
       "        vertical-align: middle;\n",
       "    }\n",
       "\n",
       "    .dataframe tbody tr th {\n",
       "        vertical-align: top;\n",
       "    }\n",
       "\n",
       "    .dataframe thead th {\n",
       "        text-align: right;\n",
       "    }\n",
       "</style>\n",
       "<table border=\"1\" class=\"dataframe\">\n",
       "  <thead>\n",
       "    <tr style=\"text-align: right;\">\n",
       "      <th></th>\n",
       "      <th>ppi</th>\n",
       "      <th>source</th>\n",
       "      <th>pmid_method</th>\n",
       "    </tr>\n",
       "  </thead>\n",
       "  <tbody>\n",
       "    <tr>\n",
       "      <th>0</th>\n",
       "      <td>A0A014C6J9:A0A014C6J9</td>\n",
       "      <td>PDB</td>\n",
       "      <td>29438671:0114</td>\n",
       "    </tr>\n",
       "    <tr>\n",
       "      <th>1</th>\n",
       "      <td>A0A021WW32:A0A021WW32</td>\n",
       "      <td>BioGrid</td>\n",
       "      <td>27996020:0004</td>\n",
       "    </tr>\n",
       "    <tr>\n",
       "      <th>2</th>\n",
       "      <td>A0A021WW32:A1Z8S6</td>\n",
       "      <td>BioGrid</td>\n",
       "      <td>25588834:0004</td>\n",
       "    </tr>\n",
       "    <tr>\n",
       "      <th>3</th>\n",
       "      <td>A0A021WW32:D6W4X5</td>\n",
       "      <td>IntAct</td>\n",
       "      <td>37061542:0397|37061542:1112</td>\n",
       "    </tr>\n",
       "    <tr>\n",
       "      <th>4</th>\n",
       "      <td>A0A021WW32:P05205</td>\n",
       "      <td>BioGrid</td>\n",
       "      <td>24990964:0004</td>\n",
       "    </tr>\n",
       "  </tbody>\n",
       "</table>\n",
       "</div>"
      ],
      "text/plain": [
       "                     ppi   source                  pmid_method\n",
       "0  A0A014C6J9:A0A014C6J9      PDB                29438671:0114\n",
       "1  A0A021WW32:A0A021WW32  BioGrid                27996020:0004\n",
       "2      A0A021WW32:A1Z8S6  BioGrid                25588834:0004\n",
       "3      A0A021WW32:D6W4X5   IntAct  37061542:0397|37061542:1112\n",
       "4      A0A021WW32:P05205  BioGrid                24990964:0004"
      ]
     },
     "execution_count": 163,
     "metadata": {},
     "output_type": "execute_result"
    }
   ],
   "source": [
    "ppi_agg.head()"
   ]
  },
  {
   "cell_type": "code",
   "execution_count": 164,
   "id": "17e25234-2331-46ab-a095-5cfc42fdefbe",
   "metadata": {},
   "outputs": [
    {
     "data": {
      "text/plain": [
       "(2082317, 4)"
      ]
     },
     "execution_count": 164,
     "metadata": {},
     "output_type": "execute_result"
    }
   ],
   "source": [
    "ppi_agg = ppi_agg.merge(ppi_uniq[['ppi', 'taxa']].drop_duplicates()).drop_duplicates().reset_index(drop=True)\n",
    "ppi_agg.shape"
   ]
  },
  {
   "cell_type": "code",
   "execution_count": 166,
   "id": "b04a1f7e-37b2-437b-aa6c-ea174e482d10",
   "metadata": {},
   "outputs": [],
   "source": [
    "ppi_agg['UniProt_A'], ppi_agg['UniProt_B'] = zip(*ppi_agg['ppi'].apply(lambda x: x.split(':')))"
   ]
  },
  {
   "cell_type": "code",
   "execution_count": 167,
   "id": "3c09d30e-869d-4739-8c2c-fe2b422d175a",
   "metadata": {},
   "outputs": [],
   "source": [
    "# raw interactome data\n",
    "cols = ['source', 'UniProt_A', 'UniProt_B', 'taxa', 'pmid_method']\n",
    "ppi_agg[cols].sort_values(['UniProt_A', 'UniProt_B']).to_csv(output_root / 'raw_interactome.txt', index=False, sep='\\t')"
   ]
  },
  {
   "cell_type": "markdown",
   "id": "4931d8ad-3e7f-4c35-b59d-c185310a49be",
   "metadata": {},
   "source": [
    "#### Assign interaction type and quality"
   ]
  },
  {
   "cell_type": "markdown",
   "id": "3190b53f-3220-4c4a-b57a-7bbb6657687d",
   "metadata": {},
   "source": [
    "##### Assign binary / co-complex by publication and evidence code"
   ]
  },
  {
   "cell_type": "code",
   "execution_count": 176,
   "id": "2b0bec02-b9d3-46af-9b96-28cbac5775e0",
   "metadata": {},
   "outputs": [],
   "source": [
    "ev_ref = pd.read_csv(update_root / 'data/evidence_code_20231120.txt', sep='\\t', names=['code', 'name', 'group'], dtype={'code': str})\n",
    "ev_ref['code'] = ev_ref['code'].str.zfill(4)"
   ]
  },
  {
   "cell_type": "markdown",
   "id": "c7b671f0-c1f3-4c26-9b16-083ec0fe5109",
   "metadata": {},
   "source": [
    "* Generate evidence code summary file\n",
    "--- number of interactions per publication per evidence code"
   ]
  },
  {
   "cell_type": "code",
   "execution_count": 177,
   "id": "97949c99-1ce5-44b6-b62e-cb8f527153b0",
   "metadata": {},
   "outputs": [],
   "source": [
    "binary_idx = ppi_uniq['method'].isin(ev_ref.query('group == \"binary\"')['code'])\n",
    "cocomp_idx = ppi_uniq['method'].isin(ev_ref.query('group == \"co-complex\"')['code'])\n",
    "\n",
    "ppi_uniq.loc[binary_idx, 'type'] = 'binary'\n",
    "ppi_uniq.loc[cocomp_idx, 'type'] = 'co-complex'\n",
    "\n",
    "for grp in ['binary', 'co-complex']:\n",
    "    ppi_grp = ppi_uniq.query('type == @grp')\n",
    "    pub_stats = ppi_grp.groupby(['pmid_method', 'taxa'])['ppi'].nunique().sort_values(ascending=False).reset_index()\n",
    "    pub_stats['publ'], pub_stats['method'] = zip(*pub_stats['pmid_method'].apply(lambda x: [x.split(':')[-2], x.split(':')[-1]]))\n",
    "    pub_stats.to_csv(output_root / 'cache/publication_count_{}_with_evi_code.txt'.format(re.sub('-', '', grp)), sep='\\t', index=False)"
   ]
  },
  {
   "cell_type": "markdown",
   "id": "4a55f0d3-28dd-4d77-b59e-2aab93d1138f",
   "metadata": {},
   "source": [
    "* some evidence code can be either binary or co-complex - evaluate by publication"
   ]
  },
  {
   "cell_type": "code",
   "execution_count": 179,
   "id": "1f5d50d0-5bfd-41f8-a169-e2d4706e38fa",
   "metadata": {},
   "outputs": [],
   "source": [
    "binary_pub_stats = pd.read_csv(output_root / 'cache/publication_count_binary_with_evi_code.txt', sep='\\t', dtype={'method': str})"
   ]
  },
  {
   "cell_type": "code",
   "execution_count": 180,
   "id": "b3a3476a-d760-4b1d-acd0-952868f70965",
   "metadata": {},
   "outputs": [],
   "source": [
    "# evidence code for both binary and co-complex\n",
    "ev_code_both = [str(s).zfill(4) for s in [6,7,19,59,61,75,96]]\n",
    "max_ppi = 25\n",
    "\n",
    "to_cocomp = binary_pub_stats['method'].isin(ev_code_both) & (binary_pub_stats['ppi'] > max_ppi)\n",
    "to_cocomp_publ = binary_pub_stats[to_cocomp]['pmid_method'].drop_duplicates().tolist()"
   ]
  },
  {
   "cell_type": "markdown",
   "id": "046105b3-2905-423e-a852-f2cdffdb9395",
   "metadata": {},
   "source": [
    "**Curate publications**\n",
    "\n",
    "* Binary: (1 OR 2) AND 3\n",
    "  1. evidence code is binary\n",
    "  2. evidence code = \"0492\" or \"0493\" for HPRD source\n",
    "  3. publication NOT in blacklist and NOT forced to co-complex\n",
    "\n",
    "* Co-complex: 1 AND 2\n",
    "  1. evidence code is co-complex or publication forced as co-complex\n",
    "  2. publication NOT in blacklist"
   ]
  },
  {
   "cell_type": "code",
   "execution_count": 184,
   "id": "73661c05-710b-4229-b651-f3bd00c635f6",
   "metadata": {},
   "outputs": [],
   "source": [
    "flist = list((update_root / 'data/bouncer').glob('*.txt'))\n",
    "publication_bouncer = [line.strip().split('\\t') for f in flist for line in open(f).read().strip().split('\\n')]"
   ]
  },
  {
   "cell_type": "code",
   "execution_count": 185,
   "id": "d9f8615f-69ff-4639-876e-166f27f9e3c6",
   "metadata": {},
   "outputs": [],
   "source": [
    "# forced_binary = set()\n",
    "# pub_blacklist = set()\n",
    "# forced_cocomp = set()\n",
    "# general_forced_hq = set()\n",
    "key_map = {'1': 'forced_binary', '-1': 'pub_blacklist', '*': 'pub_blacklist', '0': 'forced_cocomp', \n",
    "           '2': 'general_forced_hq', '-2': 'binary_blacklist_forced_cocomplex'}\n",
    "\n",
    "special_cases = defaultdict(set)\n",
    "for pub, _, status in publication_bouncer:\n",
    "    status = status.strip()\n",
    "    if status in key_map:\n",
    "        special_cases[key_map[status]].add(pub.strip())\n",
    "    elif '*' in status:\n",
    "        special_cases['pub_blacklist'].add(pub.strip())"
   ]
  },
  {
   "cell_type": "code",
   "execution_count": null,
   "id": "0e852f82-8d31-428f-bfc9-407e5d195525",
   "metadata": {},
   "outputs": [],
   "source": []
  },
  {
   "cell_type": "code",
   "execution_count": 186,
   "id": "a6122b06-4cca-42d3-a95d-1a242d604e23",
   "metadata": {},
   "outputs": [],
   "source": [
    "def is_binary_pub(pub_id, ev_code, source, exclude_list, binary_methods):\n",
    "    # exclude_pub = special_cases['pub_blacklist'] + special_cases['binary_blacklist_forced_cocomplex']\n",
    "    ev_code = str(ev_code).zfill(4)\n",
    "    if pub_id not in exclude_list:\n",
    "        if ev_code in binary_methods:\n",
    "            return True\n",
    "        if ev_code in ['0492', '0493'] and source.upper() == 'HPRD':\n",
    "            return True\n",
    "    return False\n",
    "\n",
    "def is_cocomp_pub(pub_id, ev_code, blacklist, bin_forced_cocomp, cocomp_methods):\n",
    "    if pub_id not in blacklist:\n",
    "        if ev_code in cocomp_methods or pub_id in bin_forced_cocomp:\n",
    "            return True\n",
    "    return False"
   ]
  },
  {
   "cell_type": "code",
   "execution_count": 187,
   "id": "346a29fc-95a7-414c-9077-0bc88aaf2c2e",
   "metadata": {},
   "outputs": [],
   "source": [
    "binary_code = ev_ref.query('group == \"binary\"')['code'].tolist()\n",
    "cocomp_code = ev_ref.query('group == \"co-complex\"')['code'].tolist()\n",
    "\n",
    "binary_exclude = list(special_cases['pub_blacklist']) + list(special_cases['binary_blacklist_forced_cocomplex'])\n",
    "ppi_uniq['is_binary_pub'] = ppi_uniq.apply(lambda x: is_binary_pub(x['publ'], x['method'], x['source'], binary_exclude, binary_code), axis=1)\n",
    "ppi_uniq['is_cocomp_pub'] = ppi_uniq.apply(lambda x: is_cocomp_pub(x['publ'], x['method'], special_cases['pub_blacklist'], \n",
    "                                                                   special_cases['binary_blacklist_forced_cocomplex'], cocomp_code), axis=1)"
   ]
  },
  {
   "cell_type": "markdown",
   "id": "69807c3f-60ed-43cd-ac0e-7430ea09ffcb",
   "metadata": {},
   "source": [
    "##### High-throughput (HT) vs literature-curated (LC)\n",
    "\n",
    "**Proceed with only binary or co-complex interactions**\n",
    "\n",
    "* high-throughput\n",
    "  * binary\n",
    "    * **binary** publication AND publication in `forced_binary`\n",
    "  * co-complex\n",
    "    * **co-complex** publication AND (publication in `forced_cocomp` OR publication selected as cocomplex by cutoff)\n",
    "* literature curated otherwise"
   ]
  },
  {
   "cell_type": "code",
   "execution_count": 189,
   "id": "ae70ccb2-e713-4b48-a5bb-c35215aa14f2",
   "metadata": {},
   "outputs": [],
   "source": [
    "def assign_quality(record, cocomp_pub_by_cutoff, forced_binary, forced_cocomp):\n",
    "    if record['is_binary_pub']:\n",
    "        if record['publ'] in forced_binary:\n",
    "            return 'HT'\n",
    "        return 'LC'\n",
    "    \n",
    "    if record['is_cocomp_pub']:\n",
    "        if record['publ'] in forced_cocomp or record['publ'] in cocomp_pub_by_cutoff:\n",
    "            return 'HT'\n",
    "    \n",
    "        return 'LC'\n",
    "    \n",
    "    return np.nan"
   ]
  },
  {
   "cell_type": "code",
   "execution_count": 190,
   "id": "0940d527-f12e-4bcc-886c-ac3495da1343",
   "metadata": {},
   "outputs": [],
   "source": [
    "# ppi_uniq['quality'] = ppi_uniq.apply(lambda x: assign_quality(x, to_cocomp_publ, special_cases['forced_binary'], special_cases['forced_cocomp']), axis=1)\n",
    "# ppi_uniq.groupby(['type', 'quality'])['ppi'].nunique()"
   ]
  },
  {
   "cell_type": "code",
   "execution_count": 191,
   "id": "530aaf26-37f5-418e-9586-a46cd1f2ec6b",
   "metadata": {},
   "outputs": [
    {
     "data": {
      "text/plain": [
       "1367310"
      ]
     },
     "execution_count": 191,
     "metadata": {},
     "output_type": "execute_result"
    }
   ],
   "source": [
    "# proceed with binary / co-complex interactions\n",
    "ppi_uniq_bincocomp = ppi_uniq[ppi_uniq['is_binary_pub'] | ppi_uniq['is_cocomp_pub']].reset_index(drop=True)\n",
    "ppi_uniq_bincocomp['ppi'].nunique()"
   ]
  },
  {
   "cell_type": "code",
   "execution_count": 192,
   "id": "ff8b860d-4382-4900-8f15-5cddf6978f07",
   "metadata": {},
   "outputs": [
    {
     "data": {
      "text/plain": [
       "type        quality\n",
       "binary      HT         243656\n",
       "            LC         620592\n",
       "co-complex  HT         194593\n",
       "            LC         644359\n",
       "Name: ppi, dtype: int64"
      ]
     },
     "execution_count": 192,
     "metadata": {},
     "output_type": "execute_result"
    }
   ],
   "source": [
    "ppi_uniq_bincocomp['quality'] = ppi_uniq_bincocomp.apply(lambda x: assign_quality(x, to_cocomp_publ, special_cases['forced_binary'], special_cases['forced_cocomp']), axis=1)\n",
    "ppi_uniq_bincocomp.groupby(['type', 'quality'])['ppi'].nunique()"
   ]
  },
  {
   "cell_type": "code",
   "execution_count": 240,
   "id": "e7a2be3b-9018-4c51-a730-430085cfd352",
   "metadata": {},
   "outputs": [
    {
     "data": {
      "text/plain": [
       "array(['HPRD'], dtype=object)"
      ]
     },
     "execution_count": 240,
     "metadata": {},
     "output_type": "execute_result"
    }
   ],
   "source": [
    "ppi_uniq_bincocomp[ppi_uniq_bincocomp['method_type'].isna() & ppi_uniq_bincocomp['is_binary_pub']]['source'].unique()"
   ]
  },
  {
   "cell_type": "code",
   "execution_count": 238,
   "id": "0accb906-2529-45aa-a127-19ffb7bf5965",
   "metadata": {},
   "outputs": [
    {
     "data": {
      "text/plain": [
       "True"
      ]
     },
     "execution_count": 238,
     "metadata": {},
     "output_type": "execute_result"
    }
   ],
   "source": [
    "ppi_uniq_bincocomp[ppi_uniq_bincocomp['method_type'].isna()].query('is_cocomp_pub')['publ'].isin(special_cases['binary_blacklist_forced_cocomplex']).all()"
   ]
  },
  {
   "cell_type": "code",
   "execution_count": 193,
   "id": "67d1b899-867a-4ee3-a2fc-806f5e0c118a",
   "metadata": {},
   "outputs": [],
   "source": [
    "ppi_uniq_bincocomp['pmid:method:quality'] = ppi_uniq_bincocomp.apply(lambda x: ':'.join([x['publ'], x['method'], x['quality']]), axis=1)"
   ]
  },
  {
   "cell_type": "markdown",
   "id": "35ba3cbc-c8d6-4acf-a682-0d8f741046db",
   "metadata": {},
   "source": [
    "##### High-quality\n",
    "\n",
    "If an interaction meet any of the following conditions:\n",
    "\n",
    "* Any publication is binary and is in `forced_binary`\n",
    "* Any publication co-complex and is in `forced_cocomp` + `forced_cocomp_by_cutoff`\n",
    "* more than one publication NOT in the blacklist\n",
    "* source is PDB"
   ]
  },
  {
   "cell_type": "code",
   "execution_count": 194,
   "id": "f2470653-2d3b-4283-ae82-97d7fac52c3b",
   "metadata": {},
   "outputs": [],
   "source": [
    "def is_high_quality(record, forced_binary, forced_cocomp_all):\n",
    "    \"\"\"\n",
    "    Whether or not a single record (with one publication+method) is high-quality itself\n",
    "    \"\"\"\n",
    "    if record['is_binary_pub'] and record['publ'] in forced_binary:\n",
    "        return True\n",
    "    if record['is_cocomp_pub'] and record['publ'] in forced_cocomp_all:\n",
    "        return True\n",
    "    if record['source'].upper() == 'PDB':\n",
    "        return True\n",
    "    return False"
   ]
  },
  {
   "cell_type": "markdown",
   "id": "ab814de9-3310-441d-ae75-ca8e3f8a7066",
   "metadata": {},
   "source": [
    "**[revision 2024-06-02] assign quality by interaction type**"
   ]
  },
  {
   "cell_type": "code",
   "execution_count": 195,
   "id": "9c9f9670-2db0-4394-ae0c-5dcd0b2c75fc",
   "metadata": {},
   "outputs": [],
   "source": [
    "def is_high_quality_binary(record, forced_binary):\n",
    "    \"\"\"\n",
    "    For binary interactions:\n",
    "        Whether or not a single record (with one publication+method) is high-quality itself\n",
    "    \"\"\"\n",
    "    if record['is_binary_pub'] and record['publ'] in forced_binary:\n",
    "        return True\n",
    "    if record['source'].upper() == 'PDB':\n",
    "        return True\n",
    "    return False\n",
    "\n",
    "def is_high_quality_cocomp(record, forced_cocomp_all, forced_cocomp_with_ev):\n",
    "    \"\"\"\n",
    "    For co-complex interactions:\n",
    "        Whether or not a single record (with one publication+method) is high-quality itself\n",
    "    \"\"\"\n",
    "    if record['is_cocomp_pub'] and record['publ'] in forced_cocomp_all:\n",
    "        return True\n",
    "    if record['source'].upper() == 'PDB':\n",
    "        return True\n",
    "    if record['is_cocomp_pub'] and record['pmid_method'] in forced_cocomp_with_ev:\n",
    "        return True\n",
    "    return False"
   ]
  },
  {
   "cell_type": "code",
   "execution_count": 196,
   "id": "278228e3-7b13-4518-8b13-ee1182b49215",
   "metadata": {},
   "outputs": [
    {
     "data": {
      "text/plain": [
       "Index(['source', 'row_number', 'idA', 'idB', 'method', 'publ', 'idtype_A',\n",
       "       'idtype_B', 'UniProt_A', 'UniProt_B', 'taxa', 'gene_name_A',\n",
       "       'entry_name_A', 'best_uprotA', 'gene_name_B', 'entry_name_B',\n",
       "       'best_uprotB', 'ppi', 'pmid_method', 'type', 'is_binary_pub',\n",
       "       'is_cocomp_pub', 'quality', 'pmid:method:quality'],\n",
       "      dtype='object')"
      ]
     },
     "execution_count": 196,
     "metadata": {},
     "output_type": "execute_result"
    }
   ],
   "source": [
    "ppi_uniq_bincocomp.columns"
   ]
  },
  {
   "cell_type": "code",
   "execution_count": 197,
   "id": "154ef96e-ecdb-4711-8608-c89b5b26b9eb",
   "metadata": {},
   "outputs": [],
   "source": [
    "ppi_uniq_bincocomp['is_binary_hq'] = ppi_uniq_bincocomp.apply(lambda x: is_high_quality_binary(x, special_cases['forced_binary']), axis=1)\n",
    "ppi_uniq_bincocomp['is_cocomp_hq'] = ppi_uniq_bincocomp.apply(lambda x: is_high_quality_cocomp(x, special_cases['forced_cocomp'], to_cocomp_publ), axis=1)"
   ]
  },
  {
   "cell_type": "code",
   "execution_count": 198,
   "id": "fa156d9e-3972-4969-808a-824f7ad9ab49",
   "metadata": {},
   "outputs": [],
   "source": [
    "ppi_uniq_bincocomp['is_cocomp_hq'] = ppi_uniq_bincocomp['is_cocomp_hq'] & ppi_uniq_bincocomp['is_cocomp_pub']"
   ]
  },
  {
   "cell_type": "code",
   "execution_count": null,
   "id": "35620acd-1c03-4630-b491-2353c591a78b",
   "metadata": {},
   "outputs": [],
   "source": []
  },
  {
   "cell_type": "code",
   "execution_count": 202,
   "id": "49bbf041-19fd-4ef3-98b1-1b10fac9d6ee",
   "metadata": {},
   "outputs": [],
   "source": [
    "# forced_cocomp_all = to_cocomp_publ + list(special_cases['forced_cocomp'])\n",
    "# ppi_uniq_bincocomp['is_hq'] = ppi_uniq_bincocomp.apply(lambda x: is_high_quality(x, special_cases['forced_binary'], forced_cocomp_all), axis=1)"
   ]
  },
  {
   "cell_type": "code",
   "execution_count": 203,
   "id": "369cbbef-c71f-4305-8d92-21d1c54d43c7",
   "metadata": {},
   "outputs": [],
   "source": [
    "# ppi_uniq_bincocomp.groupby(['type', 'is_hq'])['ppi'].nunique()"
   ]
  },
  {
   "cell_type": "code",
   "execution_count": 204,
   "id": "2138c7eb-a0ff-478f-9df4-2ff7b7b11875",
   "metadata": {},
   "outputs": [],
   "source": [
    "# ppi_uniq_bincocomp.groupby(['type', 'quality', 'is_hq'])['ppi'].nunique()"
   ]
  },
  {
   "cell_type": "markdown",
   "id": "fedce3ae-25ea-4a59-8c7b-8aca7ae5ea3c",
   "metadata": {},
   "source": [
    "[revision 2024.4.16] --- add interaction type to `pmid:method:quality` triplet"
   ]
  },
  {
   "cell_type": "code",
   "execution_count": 205,
   "id": "86094323-16d0-4ac4-bf17-c57a0fcb0fe1",
   "metadata": {},
   "outputs": [],
   "source": [
    "# revision 2024.4.16 --- load from cache\n",
    "# dtype_dict = {'idA': str, 'idB': str, 'gene_name_A': str, 'gene_name_B': str, 'method': str, 'publ': str}\n",
    "# ppi_uniq_bincocomp = pd.read_csv(output_root / 'bincocomp_interactome.txt', sep='\\t', dtype=dtype_dict)"
   ]
  },
  {
   "cell_type": "code",
   "execution_count": 207,
   "id": "55e9364d-d7d1-4d1f-8a2b-4da76bd43338",
   "metadata": {},
   "outputs": [
    {
     "data": {
      "text/plain": [
       "Index(['source', 'row_number', 'idA', 'idB', 'method', 'publ', 'idtype_A',\n",
       "       'idtype_B', 'UniProt_A', 'UniProt_B', 'taxa', 'gene_name_A',\n",
       "       'entry_name_A', 'best_uprotA', 'gene_name_B', 'entry_name_B',\n",
       "       'best_uprotB', 'ppi', 'pmid_method', 'type', 'is_binary_pub',\n",
       "       'is_cocomp_pub', 'quality', 'pmid:method:quality', 'is_binary_hq',\n",
       "       'is_cocomp_hq'],\n",
       "      dtype='object')"
      ]
     },
     "execution_count": 207,
     "metadata": {},
     "output_type": "execute_result"
    }
   ],
   "source": [
    "ppi_uniq_bincocomp.columns"
   ]
  },
  {
   "cell_type": "code",
   "execution_count": 206,
   "id": "079b42dc-bbba-43fc-afe2-825f779785ef",
   "metadata": {},
   "outputs": [
    {
     "data": {
      "text/plain": [
       "array(['binary', 'co-complex', nan], dtype=object)"
      ]
     },
     "execution_count": 206,
     "metadata": {},
     "output_type": "execute_result"
    }
   ],
   "source": [
    "ppi_uniq_bincocomp['type'].unique()"
   ]
  },
  {
   "cell_type": "code",
   "execution_count": 43,
   "id": "30e01f72-eb04-4728-9996-eb1bfdd5957c",
   "metadata": {},
   "outputs": [],
   "source": [
    "# ppi_uniq_bincocomp[ppi_uniq_bincocomp['type'].isna()].drop_duplicates('pmid_method')['publ'].isin(special_cases['binary_blacklist_forced_cocomplex']).all()"
   ]
  },
  {
   "cell_type": "code",
   "execution_count": 208,
   "id": "0a75bbcc-4af7-45dc-a1e7-8d5545e55ac8",
   "metadata": {},
   "outputs": [],
   "source": [
    "# revise column name to avoid ambiguity (type --> method_type, not finalized)\n",
    "ppi_uniq_bincocomp = ppi_uniq_bincocomp.rename(columns={'type': 'method_type'})"
   ]
  },
  {
   "cell_type": "code",
   "execution_count": 209,
   "id": "1e33b8be-332c-4b0d-a702-fc77cc2af094",
   "metadata": {},
   "outputs": [],
   "source": [
    "# sanity check\n",
    "# each `pmid:method:quality` triplet should be exactly one of binary or co-complex\n",
    "assert not (ppi_uniq_bincocomp['is_binary_pub'] & ppi_uniq_bincocomp['is_cocomp_pub']).any()\n",
    "assert (ppi_uniq_bincocomp['is_binary_pub'] | ppi_uniq_bincocomp['is_cocomp_pub']).all()"
   ]
  },
  {
   "cell_type": "code",
   "execution_count": 46,
   "id": "5da54aab-44cb-4b1e-a8a6-16b6367516f0",
   "metadata": {},
   "outputs": [
    {
     "data": {
      "text/plain": [
       "Index(['source', 'row_number', 'idA', 'idB', 'method', 'publ', 'idtype_A',\n",
       "       'idtype_B', 'UniProt_A', 'UniProt_B', 'taxa', 'gene_name_A',\n",
       "       'entry_name_A', 'best_uprotA', 'gene_name_B', 'entry_name_B',\n",
       "       'best_uprotB', 'ppi', 'pmid_method', 'method_type', 'is_binary_pub',\n",
       "       'is_cocomp_pub', 'quality', 'is_hq', 'pmid:method:quality'],\n",
       "      dtype='object')"
      ]
     },
     "execution_count": 46,
     "metadata": {},
     "output_type": "execute_result"
    }
   ],
   "source": [
    "ppi_uniq_bincocomp.columns"
   ]
  },
  {
   "cell_type": "code",
   "execution_count": 210,
   "id": "2b75364a-0635-4aed-98a7-cecfc1c7b056",
   "metadata": {},
   "outputs": [],
   "source": [
    "# ppi_type --- consider both method_type (based on evidence code) and publication\n",
    "ppi_uniq_bincocomp['ppi_type'] = ppi_uniq_bincocomp.apply(lambda x: 'binary' if x['is_binary_pub'] else 'co-complex', axis=1)\n",
    "ppi_uniq_bincocomp['pmid:method:quality:type'] = ppi_uniq_bincocomp['pmid:method:quality'] + ':' + ppi_uniq_bincocomp['ppi_type']"
   ]
  },
  {
   "cell_type": "code",
   "execution_count": 211,
   "id": "ed178453-8c08-4fa5-843c-f8df0fd40b29",
   "metadata": {},
   "outputs": [
    {
     "data": {
      "text/plain": [
       "binary        1646177\n",
       "co-complex    1282179\n",
       "Name: ppi_type, dtype: int64"
      ]
     },
     "execution_count": 211,
     "metadata": {},
     "output_type": "execute_result"
    }
   ],
   "source": [
    "ppi_uniq_bincocomp['ppi_type'].value_counts()"
   ]
  },
  {
   "cell_type": "code",
   "execution_count": 54,
   "id": "3ed3d1fe-a247-4d25-ab13-c471bfe05b1d",
   "metadata": {},
   "outputs": [
    {
     "data": {
      "text/plain": [
       "binary        1402267\n",
       "co-complex    1286181\n",
       "Name: ppi_type, dtype: int64"
      ]
     },
     "execution_count": 54,
     "metadata": {},
     "output_type": "execute_result"
    }
   ],
   "source": [
    "ppi_uniq_bincocomp['ppi_type'].value_counts()"
   ]
  },
  {
   "cell_type": "code",
   "execution_count": 213,
   "id": "ad1a87c1-8f18-4183-b913-3739e2df48d4",
   "metadata": {},
   "outputs": [
    {
     "data": {
      "text/plain": [
       "binary    763930\n",
       "Name: ppi_type, dtype: int64"
      ]
     },
     "execution_count": 213,
     "metadata": {},
     "output_type": "execute_result"
    }
   ],
   "source": [
    "ppi_uniq_bincocomp.query('is_binary_hq == True')['ppi_type'].value_counts()"
   ]
  },
  {
   "cell_type": "code",
   "execution_count": 212,
   "id": "7fac6900-7234-493c-9ef9-37fed6bc06a7",
   "metadata": {},
   "outputs": [
    {
     "data": {
      "text/plain": [
       "co-complex    403080\n",
       "Name: ppi_type, dtype: int64"
      ]
     },
     "execution_count": 212,
     "metadata": {},
     "output_type": "execute_result"
    }
   ],
   "source": [
    "ppi_uniq_bincocomp.query('is_cocomp_hq == True')['ppi_type'].value_counts()"
   ]
  },
  {
   "cell_type": "code",
   "execution_count": 215,
   "id": "9591a54f-ecf9-4082-838b-57552e08b036",
   "metadata": {},
   "outputs": [
    {
     "data": {
      "text/plain": [
       "array([], dtype=object)"
      ]
     },
     "execution_count": 215,
     "metadata": {},
     "output_type": "execute_result"
    }
   ],
   "source": [
    "ppi_uniq_bincocomp.query('is_cocomp_hq == True & ppi_type == \"binary\"')['source'].unique()"
   ]
  },
  {
   "cell_type": "markdown",
   "id": "865dd570-df26-425a-8462-ea1c56336743",
   "metadata": {},
   "source": [
    "#### Fill gene information"
   ]
  },
  {
   "cell_type": "code",
   "execution_count": 216,
   "id": "7d8855d5-190b-4347-bac8-78a1928b24ff",
   "metadata": {},
   "outputs": [
    {
     "name": "stdout",
     "output_type": "stream",
     "text": [
      "94176\n",
      "120162\n"
     ]
    }
   ],
   "source": [
    "# curate uniprot-to-gene mapping from current interaction data\n",
    "idx = ppi_uniq_bincocomp['gene_name_A'].notna()\n",
    "uprot2gene = dict(zip(ppi_uniq_bincocomp.loc[idx, 'best_uprotA'], ppi_uniq_bincocomp.loc[idx, 'gene_name_A']))\n",
    "print(len(uprot2gene))\n",
    "\n",
    "idx = ppi_uniq_bincocomp['gene_name_B'].notna()\n",
    "uprot2gene.update(dict(zip(ppi_uniq_bincocomp.loc[idx, 'best_uprotB'], ppi_uniq_bincocomp.loc[idx, 'gene_name_B'])))\n",
    "print(len(uprot2gene))"
   ]
  },
  {
   "cell_type": "code",
   "execution_count": 244,
   "id": "f622b7ac-c37f-4e97-947a-300da9715be4",
   "metadata": {},
   "outputs": [],
   "source": [
    "ppi_uniq_bincocomp.to_csv(output_root / 'bincocomp_interactome.txt', sep='\\t', index=False)"
   ]
  },
  {
   "cell_type": "markdown",
   "id": "d0878d28-72db-4205-8349-8f2c9654d814",
   "metadata": {},
   "source": [
    "#### Aggregate by interaction\n",
    "\n",
    "--- each row becomes a unique interaction with all publication+method+quality information concatenated\n",
    "\n",
    "**Aggregating criteria**\n",
    "* An interaction is considered as **binary** if **any** publication + evidence code suggests it is binary\n",
    "* An interaction is considered as **co-complex** if **any** publication + evidence code suggests it is co-complex\n",
    "* High quality if **any** single record meets **high-quality** condition **or** has >1 publications not in the blacklist"
   ]
  },
  {
   "cell_type": "markdown",
   "id": "ea4d8136-6d34-40ee-9fa9-a7a30d30f850",
   "metadata": {},
   "source": [
    "* [revision 2024.4.16] change `pmid:method:quality` into `pmid:method:quality:type` (add interaction type)\n",
    "* [revision 2024.4.16] add `high_quality` column to HINT format output"
   ]
  },
  {
   "cell_type": "code",
   "execution_count": 219,
   "id": "98cdf995-f928-4b56-aa3a-740a423f79ac",
   "metadata": {},
   "outputs": [],
   "source": [
    "# Load previous data\n",
    "dtype_dict = {'method': str, 'idA': str, 'idB': str, 'taxa': str, 'publ': str}\n",
    "\n",
    "ppi_uniq_bincocomp = pd.read_csv(output_root / 'bincocomp_interactome.txt', sep='\\t', dtype=dtype_dict)  # binary / co-complex (keep seperate rows for different publications/methods)"
   ]
  },
  {
   "cell_type": "code",
   "execution_count": 220,
   "id": "33688927-1a8f-4f34-92ad-4868c71e8f16",
   "metadata": {},
   "outputs": [
    {
     "data": {
      "text/html": [
       "<div>\n",
       "<style scoped>\n",
       "    .dataframe tbody tr th:only-of-type {\n",
       "        vertical-align: middle;\n",
       "    }\n",
       "\n",
       "    .dataframe tbody tr th {\n",
       "        vertical-align: top;\n",
       "    }\n",
       "\n",
       "    .dataframe thead th {\n",
       "        text-align: right;\n",
       "    }\n",
       "</style>\n",
       "<table border=\"1\" class=\"dataframe\">\n",
       "  <thead>\n",
       "    <tr style=\"text-align: right;\">\n",
       "      <th></th>\n",
       "      <th>method_type</th>\n",
       "      <th>is_binary_pub</th>\n",
       "    </tr>\n",
       "  </thead>\n",
       "  <tbody>\n",
       "    <tr>\n",
       "      <th>count</th>\n",
       "      <td>1598651</td>\n",
       "      <td>1646177</td>\n",
       "    </tr>\n",
       "    <tr>\n",
       "      <th>unique</th>\n",
       "      <td>1</td>\n",
       "      <td>1</td>\n",
       "    </tr>\n",
       "    <tr>\n",
       "      <th>top</th>\n",
       "      <td>binary</td>\n",
       "      <td>True</td>\n",
       "    </tr>\n",
       "    <tr>\n",
       "      <th>freq</th>\n",
       "      <td>1598651</td>\n",
       "      <td>1646177</td>\n",
       "    </tr>\n",
       "  </tbody>\n",
       "</table>\n",
       "</div>"
      ],
      "text/plain": [
       "       method_type is_binary_pub\n",
       "count      1598651       1646177\n",
       "unique           1             1\n",
       "top         binary          True\n",
       "freq       1598651       1646177"
      ]
     },
     "execution_count": 220,
     "metadata": {},
     "output_type": "execute_result"
    }
   ],
   "source": [
    "ppi_uniq_bincocomp.query('ppi_type == \"binary\"')[['method_type', 'is_binary_pub']].describe()"
   ]
  },
  {
   "cell_type": "code",
   "execution_count": 221,
   "id": "195e70a2-4adf-432c-9d79-210d756d353b",
   "metadata": {},
   "outputs": [],
   "source": [
    "# revised: count publication by interaction type\n",
    "ppi2pub_bytype = {'binary': ppi_uniq_bincocomp.query('ppi_type == \"binary\"').groupby(['ppi']).agg({'publ': set}).to_dict()['publ'],\n",
    "                  'cocomp': ppi_uniq_bincocomp.query('ppi_type == \"co-complex\"').groupby(['ppi']).agg({'publ': set}).to_dict()['publ']}"
   ]
  },
  {
   "cell_type": "code",
   "execution_count": 222,
   "id": "8c8a2de2-feff-4d35-923b-109e5881c024",
   "metadata": {},
   "outputs": [
    {
     "data": {
      "text/plain": [
       "826440"
      ]
     },
     "execution_count": 222,
     "metadata": {},
     "output_type": "execute_result"
    }
   ],
   "source": [
    "len(ppi2pub_bytype['binary'])"
   ]
  },
  {
   "cell_type": "code",
   "execution_count": 241,
   "id": "825765e2-b9d1-4fca-8ece-22df306681fe",
   "metadata": {},
   "outputs": [
    {
     "data": {
      "text/plain": [
       "845826"
      ]
     },
     "execution_count": 241,
     "metadata": {},
     "output_type": "execute_result"
    }
   ],
   "source": [
    "len(ppi2pub_bytype['cocomp'])"
   ]
  },
  {
   "cell_type": "code",
   "execution_count": 242,
   "id": "099e00a5-6815-4479-b97d-4882d52856e2",
   "metadata": {},
   "outputs": [],
   "source": [
    "ppi_agg_bincomp = ppi_uniq_bincocomp.groupby(['ppi', 'taxa']).agg({'source': set, 'pmid:method:quality:type': set, 'publ': set, \n",
    "                                                                   'is_binary_hq': any, 'is_cocomp_hq': any, 'is_binary_pub': any, 'is_cocomp_pub': any}).reset_index()\n",
    "ppi_agg_bincomp['source'] = ppi_agg_bincomp['source'].apply(lambda x: '|'.join(sorted(x)))\n",
    "ppi_agg_bincomp['pmid:method:quality:type'] = ppi_agg_bincomp['pmid:method:quality:type'].apply(lambda x: '|'.join(sorted(x)))\n",
    "# ppi_agg_bincomp['n_valid_pub'] = ppi_agg_bincomp['publ'].apply(len)\n",
    "ppi_agg_bincomp = ppi_agg_bincomp.rename(columns={'is_binary_pub': 'is_binary', 'is_cocomp_pub': 'is_cocomp'})\n",
    "# .drop('publ', axis=1)\n",
    "# high quality tag when aggregating information from all publications\n",
    "# ppi_agg_bincomp['is_hq_agg'] = ppi_agg_bincomp['is_hq'] | (ppi_agg_bincomp['n_valid_pub'] > 1)"
   ]
  },
  {
   "cell_type": "code",
   "execution_count": 243,
   "id": "5e548335-e168-42d7-a71d-5b4aec60e618",
   "metadata": {},
   "outputs": [
    {
     "data": {
      "text/html": [
       "<div>\n",
       "<style scoped>\n",
       "    .dataframe tbody tr th:only-of-type {\n",
       "        vertical-align: middle;\n",
       "    }\n",
       "\n",
       "    .dataframe tbody tr th {\n",
       "        vertical-align: top;\n",
       "    }\n",
       "\n",
       "    .dataframe thead th {\n",
       "        text-align: right;\n",
       "    }\n",
       "</style>\n",
       "<table border=\"1\" class=\"dataframe\">\n",
       "  <thead>\n",
       "    <tr style=\"text-align: right;\">\n",
       "      <th></th>\n",
       "      <th>ppi</th>\n",
       "      <th>taxa</th>\n",
       "      <th>source</th>\n",
       "      <th>pmid:method:quality:type</th>\n",
       "      <th>publ</th>\n",
       "      <th>is_binary_hq</th>\n",
       "      <th>is_cocomp_hq</th>\n",
       "      <th>is_binary</th>\n",
       "      <th>is_cocomp</th>\n",
       "    </tr>\n",
       "  </thead>\n",
       "  <tbody>\n",
       "    <tr>\n",
       "      <th>0</th>\n",
       "      <td>A0A014C6J9:A0A014C6J9</td>\n",
       "      <td>1310912</td>\n",
       "      <td>PDB</td>\n",
       "      <td>29438671:0114:LC:binary</td>\n",
       "      <td>{29438671}</td>\n",
       "      <td>True</td>\n",
       "      <td>False</td>\n",
       "      <td>True</td>\n",
       "      <td>False</td>\n",
       "    </tr>\n",
       "    <tr>\n",
       "      <th>1</th>\n",
       "      <td>A0A021WW32:A0A021WW32</td>\n",
       "      <td>7227</td>\n",
       "      <td>BioGrid</td>\n",
       "      <td>27996020:0004:LC:co-complex</td>\n",
       "      <td>{27996020}</td>\n",
       "      <td>False</td>\n",
       "      <td>False</td>\n",
       "      <td>False</td>\n",
       "      <td>True</td>\n",
       "    </tr>\n",
       "    <tr>\n",
       "      <th>2</th>\n",
       "      <td>A0A021WW32:A1Z8S6</td>\n",
       "      <td>7227</td>\n",
       "      <td>BioGrid</td>\n",
       "      <td>25588834:0004:LC:co-complex</td>\n",
       "      <td>{25588834}</td>\n",
       "      <td>False</td>\n",
       "      <td>False</td>\n",
       "      <td>False</td>\n",
       "      <td>True</td>\n",
       "    </tr>\n",
       "    <tr>\n",
       "      <th>3</th>\n",
       "      <td>A0A021WW32:D6W4X5</td>\n",
       "      <td>7227</td>\n",
       "      <td>IntAct</td>\n",
       "      <td>37061542:0397:LC:binary|37061542:1112:LC:binary</td>\n",
       "      <td>{37061542}</td>\n",
       "      <td>False</td>\n",
       "      <td>False</td>\n",
       "      <td>True</td>\n",
       "      <td>False</td>\n",
       "    </tr>\n",
       "    <tr>\n",
       "      <th>4</th>\n",
       "      <td>A0A021WW32:P05205</td>\n",
       "      <td>7227</td>\n",
       "      <td>BioGrid</td>\n",
       "      <td>24990964:0004:LC:co-complex</td>\n",
       "      <td>{24990964}</td>\n",
       "      <td>False</td>\n",
       "      <td>False</td>\n",
       "      <td>False</td>\n",
       "      <td>True</td>\n",
       "    </tr>\n",
       "  </tbody>\n",
       "</table>\n",
       "</div>"
      ],
      "text/plain": [
       "                     ppi     taxa   source  \\\n",
       "0  A0A014C6J9:A0A014C6J9  1310912      PDB   \n",
       "1  A0A021WW32:A0A021WW32     7227  BioGrid   \n",
       "2      A0A021WW32:A1Z8S6     7227  BioGrid   \n",
       "3      A0A021WW32:D6W4X5     7227   IntAct   \n",
       "4      A0A021WW32:P05205     7227  BioGrid   \n",
       "\n",
       "                          pmid:method:quality:type        publ  is_binary_hq  \\\n",
       "0                          29438671:0114:LC:binary  {29438671}          True   \n",
       "1                      27996020:0004:LC:co-complex  {27996020}         False   \n",
       "2                      25588834:0004:LC:co-complex  {25588834}         False   \n",
       "3  37061542:0397:LC:binary|37061542:1112:LC:binary  {37061542}         False   \n",
       "4                      24990964:0004:LC:co-complex  {24990964}         False   \n",
       "\n",
       "   is_cocomp_hq  is_binary  is_cocomp  \n",
       "0         False       True      False  \n",
       "1         False      False       True  \n",
       "2         False      False       True  \n",
       "3         False       True      False  \n",
       "4         False      False       True  "
      ]
     },
     "execution_count": 243,
     "metadata": {},
     "output_type": "execute_result"
    }
   ],
   "source": [
    "ppi_agg_bincomp.head()"
   ]
  },
  {
   "cell_type": "code",
   "execution_count": 245,
   "id": "e89eb1b4-71fd-4d02-ae68-d759f75ff1b7",
   "metadata": {},
   "outputs": [],
   "source": [
    "ppi_agg_bincomp['n_binary_pub'] = ppi_agg_bincomp['ppi'].apply(lambda x: len(ppi2pub_bytype['binary'].get(x, [])))\n",
    "ppi_agg_bincomp['n_cocomp_pub'] = ppi_agg_bincomp['ppi'].apply(lambda x: len(ppi2pub_bytype['cocomp'].get(x, [])))"
   ]
  },
  {
   "cell_type": "code",
   "execution_count": 246,
   "id": "a655febe-a6f2-4d48-ace2-beb808ef8711",
   "metadata": {},
   "outputs": [],
   "source": [
    "ppi_agg_bincomp['is_binary_hq_agg'] = ppi_agg_bincomp['is_binary_hq'] | (ppi_agg_bincomp['n_binary_pub'] > 1)\n",
    "ppi_agg_bincomp['is_cocomp_hq_agg'] = ppi_agg_bincomp['is_cocomp_hq'] | (ppi_agg_bincomp['n_cocomp_pub'] > 1)"
   ]
  },
  {
   "cell_type": "code",
   "execution_count": 247,
   "id": "24be47dd-50d0-492d-8c70-8960af0ae6ce",
   "metadata": {},
   "outputs": [
    {
     "data": {
      "text/html": [
       "<div>\n",
       "<style scoped>\n",
       "    .dataframe tbody tr th:only-of-type {\n",
       "        vertical-align: middle;\n",
       "    }\n",
       "\n",
       "    .dataframe tbody tr th {\n",
       "        vertical-align: top;\n",
       "    }\n",
       "\n",
       "    .dataframe thead th {\n",
       "        text-align: right;\n",
       "    }\n",
       "</style>\n",
       "<table border=\"1\" class=\"dataframe\">\n",
       "  <thead>\n",
       "    <tr style=\"text-align: right;\">\n",
       "      <th></th>\n",
       "      <th>ppi</th>\n",
       "      <th>taxa</th>\n",
       "      <th>source</th>\n",
       "      <th>pmid:method:quality:type</th>\n",
       "      <th>publ</th>\n",
       "      <th>is_binary_hq</th>\n",
       "      <th>is_cocomp_hq</th>\n",
       "      <th>is_binary</th>\n",
       "      <th>is_cocomp</th>\n",
       "      <th>n_binary_pub</th>\n",
       "      <th>n_cocomp_pub</th>\n",
       "      <th>is_binary_hq_agg</th>\n",
       "      <th>is_cocomp_hq_agg</th>\n",
       "    </tr>\n",
       "  </thead>\n",
       "  <tbody>\n",
       "    <tr>\n",
       "      <th>0</th>\n",
       "      <td>A0A014C6J9:A0A014C6J9</td>\n",
       "      <td>1310912</td>\n",
       "      <td>PDB</td>\n",
       "      <td>29438671:0114:LC:binary</td>\n",
       "      <td>{29438671}</td>\n",
       "      <td>True</td>\n",
       "      <td>False</td>\n",
       "      <td>True</td>\n",
       "      <td>False</td>\n",
       "      <td>1</td>\n",
       "      <td>0</td>\n",
       "      <td>True</td>\n",
       "      <td>False</td>\n",
       "    </tr>\n",
       "    <tr>\n",
       "      <th>1</th>\n",
       "      <td>A0A021WW32:A0A021WW32</td>\n",
       "      <td>7227</td>\n",
       "      <td>BioGrid</td>\n",
       "      <td>27996020:0004:LC:co-complex</td>\n",
       "      <td>{27996020}</td>\n",
       "      <td>False</td>\n",
       "      <td>False</td>\n",
       "      <td>False</td>\n",
       "      <td>True</td>\n",
       "      <td>0</td>\n",
       "      <td>1</td>\n",
       "      <td>False</td>\n",
       "      <td>False</td>\n",
       "    </tr>\n",
       "    <tr>\n",
       "      <th>2</th>\n",
       "      <td>A0A021WW32:A1Z8S6</td>\n",
       "      <td>7227</td>\n",
       "      <td>BioGrid</td>\n",
       "      <td>25588834:0004:LC:co-complex</td>\n",
       "      <td>{25588834}</td>\n",
       "      <td>False</td>\n",
       "      <td>False</td>\n",
       "      <td>False</td>\n",
       "      <td>True</td>\n",
       "      <td>0</td>\n",
       "      <td>1</td>\n",
       "      <td>False</td>\n",
       "      <td>False</td>\n",
       "    </tr>\n",
       "    <tr>\n",
       "      <th>3</th>\n",
       "      <td>A0A021WW32:D6W4X5</td>\n",
       "      <td>7227</td>\n",
       "      <td>IntAct</td>\n",
       "      <td>37061542:0397:LC:binary|37061542:1112:LC:binary</td>\n",
       "      <td>{37061542}</td>\n",
       "      <td>False</td>\n",
       "      <td>False</td>\n",
       "      <td>True</td>\n",
       "      <td>False</td>\n",
       "      <td>1</td>\n",
       "      <td>0</td>\n",
       "      <td>False</td>\n",
       "      <td>False</td>\n",
       "    </tr>\n",
       "    <tr>\n",
       "      <th>4</th>\n",
       "      <td>A0A021WW32:P05205</td>\n",
       "      <td>7227</td>\n",
       "      <td>BioGrid</td>\n",
       "      <td>24990964:0004:LC:co-complex</td>\n",
       "      <td>{24990964}</td>\n",
       "      <td>False</td>\n",
       "      <td>False</td>\n",
       "      <td>False</td>\n",
       "      <td>True</td>\n",
       "      <td>0</td>\n",
       "      <td>1</td>\n",
       "      <td>False</td>\n",
       "      <td>False</td>\n",
       "    </tr>\n",
       "  </tbody>\n",
       "</table>\n",
       "</div>"
      ],
      "text/plain": [
       "                     ppi     taxa   source  \\\n",
       "0  A0A014C6J9:A0A014C6J9  1310912      PDB   \n",
       "1  A0A021WW32:A0A021WW32     7227  BioGrid   \n",
       "2      A0A021WW32:A1Z8S6     7227  BioGrid   \n",
       "3      A0A021WW32:D6W4X5     7227   IntAct   \n",
       "4      A0A021WW32:P05205     7227  BioGrid   \n",
       "\n",
       "                          pmid:method:quality:type        publ  is_binary_hq  \\\n",
       "0                          29438671:0114:LC:binary  {29438671}          True   \n",
       "1                      27996020:0004:LC:co-complex  {27996020}         False   \n",
       "2                      25588834:0004:LC:co-complex  {25588834}         False   \n",
       "3  37061542:0397:LC:binary|37061542:1112:LC:binary  {37061542}         False   \n",
       "4                      24990964:0004:LC:co-complex  {24990964}         False   \n",
       "\n",
       "   is_cocomp_hq  is_binary  is_cocomp  n_binary_pub  n_cocomp_pub  \\\n",
       "0         False       True      False             1             0   \n",
       "1         False      False       True             0             1   \n",
       "2         False      False       True             0             1   \n",
       "3         False       True      False             1             0   \n",
       "4         False      False       True             0             1   \n",
       "\n",
       "   is_binary_hq_agg  is_cocomp_hq_agg  \n",
       "0              True             False  \n",
       "1             False             False  \n",
       "2             False             False  \n",
       "3             False             False  \n",
       "4             False             False  "
      ]
     },
     "execution_count": 247,
     "metadata": {},
     "output_type": "execute_result"
    }
   ],
   "source": [
    "ppi_agg_bincomp.head()"
   ]
  },
  {
   "cell_type": "code",
   "execution_count": 248,
   "id": "6073a13d-4c83-4175-aec7-a608427ca973",
   "metadata": {},
   "outputs": [],
   "source": [
    "# Fill back information\n",
    "ppi_agg_bincomp['UniProt_A'], ppi_agg_bincomp['UniProt_B'] = zip(*ppi_agg_bincomp['ppi'].apply(lambda x: x.split(':')))\n",
    "ppi_agg_bincomp['Gene_A'] = ppi_agg_bincomp['UniProt_A'].apply(lambda x: uprot2gene.get(x, np.nan))\n",
    "ppi_agg_bincomp['Gene_B'] = ppi_agg_bincomp['UniProt_B'].apply(lambda x: uprot2gene.get(x, np.nan))"
   ]
  },
  {
   "cell_type": "code",
   "execution_count": 249,
   "id": "f781fa98-62b4-4934-be5d-a5e17cc4cdf9",
   "metadata": {},
   "outputs": [
    {
     "data": {
      "text/plain": [
       "is_binary_hq_agg\n",
       "False    329825\n",
       "True     160024\n",
       "Name: ppi, dtype: int64"
      ]
     },
     "execution_count": 249,
     "metadata": {},
     "output_type": "execute_result"
    }
   ],
   "source": [
    "ppi_agg_bincomp.query('taxa == \"9606\" & is_binary == True').groupby('is_binary_hq_agg')['ppi'].nunique()"
   ]
  },
  {
   "cell_type": "code",
   "execution_count": 253,
   "id": "05aa83d4-9b59-4902-9af8-c2bdf9b28a83",
   "metadata": {},
   "outputs": [],
   "source": [
    "# ppi_agg_bincomp.query('taxa == \"9606\" & is_binary == True').groupby('is_binary_hq_agg')['ppi'].nunique()"
   ]
  },
  {
   "cell_type": "code",
   "execution_count": 81,
   "id": "26330e4a-ca53-472e-96c2-04fa917693f6",
   "metadata": {},
   "outputs": [
    {
     "data": {
      "text/plain": [
       "305994"
      ]
     },
     "execution_count": 81,
     "metadata": {},
     "output_type": "execute_result"
    }
   ],
   "source": [
    "ppi_agg_bincomp.query('taxa == \"9606\" & is_binary == True')['ppi'].nunique()"
   ]
  },
  {
   "cell_type": "code",
   "execution_count": 251,
   "id": "a6c77474-d57d-45d6-8a83-1caad082e996",
   "metadata": {},
   "outputs": [
    {
     "data": {
      "text/plain": [
       "596971"
      ]
     },
     "execution_count": 251,
     "metadata": {},
     "output_type": "execute_result"
    }
   ],
   "source": [
    "ppi_agg_bincomp.query('taxa == \"9606\" & is_cocomp == True')['ppi'].nunique()"
   ]
  },
  {
   "cell_type": "code",
   "execution_count": 252,
   "id": "ae1f81a8-b158-4651-8115-a4a32ce087c6",
   "metadata": {},
   "outputs": [
    {
     "data": {
      "text/plain": [
       "is_cocomp_hq_agg\n",
       "False    400734\n",
       "True     196237\n",
       "Name: ppi, dtype: int64"
      ]
     },
     "execution_count": 252,
     "metadata": {},
     "output_type": "execute_result"
    }
   ],
   "source": [
    "ppi_agg_bincomp.query('taxa == \"9606\" & is_cocomp == True').groupby('is_cocomp_hq_agg')['ppi'].nunique()"
   ]
  },
  {
   "cell_type": "code",
   "execution_count": null,
   "id": "97a3454e-d28d-4e02-a5f2-a75ee022ec9c",
   "metadata": {},
   "outputs": [],
   "source": []
  },
  {
   "cell_type": "code",
   "execution_count": 254,
   "id": "c1136012-4b24-4c28-a987-7caffc179028",
   "metadata": {},
   "outputs": [],
   "source": [
    "# save to cache if needed\n",
    "ppi_uniq_bincocomp.to_csv(output_root / 'bincocomp_interactome.txt', index=False, sep='\\t')  # binary / co-complex (keep seperate rows for different publications/methods)\n",
    "ppi_agg_bincomp.to_csv(output_root / 'bincocomp_agg_interactome.txt', index=False, sep='\\t') # binary / co-complex (aggregated by interaction)"
   ]
  },
  {
   "cell_type": "markdown",
   "id": "6f7827e7-47e2-4f1e-b95d-1cb105cd5c03",
   "metadata": {},
   "source": [
    "#### Generate HINT format output"
   ]
  },
  {
   "cell_type": "code",
   "execution_count": 255,
   "id": "81b3386d-b2e8-462d-920d-93c9a1683aa9",
   "metadata": {},
   "outputs": [
    {
     "data": {
      "text/plain": [
       "PosixPath('/home/yl986/data/HINT/update_2024/outputs')"
      ]
     },
     "execution_count": 255,
     "metadata": {},
     "output_type": "execute_result"
    }
   ],
   "source": [
    "output_root"
   ]
  },
  {
   "cell_type": "code",
   "execution_count": 256,
   "id": "0cb9dd58-9bb9-466b-b594-ede1be92040d",
   "metadata": {},
   "outputs": [],
   "source": [
    "# ppi_agg_bincomp = pd.read_csv(output_root / 'bincocomp_agg_interactome.txt', sep='\\t')"
   ]
  },
  {
   "cell_type": "code",
   "execution_count": 257,
   "id": "1f3d4843-1e04-46d7-a5a5-f03533764f94",
   "metadata": {},
   "outputs": [],
   "source": [
    "# hint_output_root = output_root / 'HINT_format'\n",
    "hint_output_root = output_root / 'HINT_format'\n",
    "\n",
    "if not hint_output_root.exists():\n",
    "    hint_output_root.mkdir(parents=True)"
   ]
  },
  {
   "cell_type": "code",
   "execution_count": 258,
   "id": "f306ce45-5b78-4128-b659-1a7a0784c93c",
   "metadata": {},
   "outputs": [
    {
     "data": {
      "text/html": [
       "<div>\n",
       "<style scoped>\n",
       "    .dataframe tbody tr th:only-of-type {\n",
       "        vertical-align: middle;\n",
       "    }\n",
       "\n",
       "    .dataframe tbody tr th {\n",
       "        vertical-align: top;\n",
       "    }\n",
       "\n",
       "    .dataframe thead th {\n",
       "        text-align: right;\n",
       "    }\n",
       "</style>\n",
       "<table border=\"1\" class=\"dataframe\">\n",
       "  <thead>\n",
       "    <tr style=\"text-align: right;\">\n",
       "      <th></th>\n",
       "      <th>ppi</th>\n",
       "      <th>taxa</th>\n",
       "      <th>source</th>\n",
       "      <th>pmid:method:quality:type</th>\n",
       "      <th>publ</th>\n",
       "      <th>is_binary_hq</th>\n",
       "      <th>is_cocomp_hq</th>\n",
       "      <th>is_binary</th>\n",
       "      <th>is_cocomp</th>\n",
       "      <th>n_binary_pub</th>\n",
       "      <th>n_cocomp_pub</th>\n",
       "      <th>is_binary_hq_agg</th>\n",
       "      <th>is_cocomp_hq_agg</th>\n",
       "      <th>UniProt_A</th>\n",
       "      <th>UniProt_B</th>\n",
       "      <th>Gene_A</th>\n",
       "      <th>Gene_B</th>\n",
       "    </tr>\n",
       "  </thead>\n",
       "  <tbody>\n",
       "    <tr>\n",
       "      <th>0</th>\n",
       "      <td>A0A014C6J9:A0A014C6J9</td>\n",
       "      <td>1310912</td>\n",
       "      <td>PDB</td>\n",
       "      <td>29438671:0114:LC:binary</td>\n",
       "      <td>{29438671}</td>\n",
       "      <td>True</td>\n",
       "      <td>False</td>\n",
       "      <td>True</td>\n",
       "      <td>False</td>\n",
       "      <td>1</td>\n",
       "      <td>0</td>\n",
       "      <td>True</td>\n",
       "      <td>False</td>\n",
       "      <td>A0A014C6J9</td>\n",
       "      <td>A0A014C6J9</td>\n",
       "      <td>J811_1009</td>\n",
       "      <td>J811_1009</td>\n",
       "    </tr>\n",
       "    <tr>\n",
       "      <th>1</th>\n",
       "      <td>A0A021WW32:A0A021WW32</td>\n",
       "      <td>7227</td>\n",
       "      <td>BioGrid</td>\n",
       "      <td>27996020:0004:LC:co-complex</td>\n",
       "      <td>{27996020}</td>\n",
       "      <td>False</td>\n",
       "      <td>False</td>\n",
       "      <td>False</td>\n",
       "      <td>True</td>\n",
       "      <td>0</td>\n",
       "      <td>1</td>\n",
       "      <td>False</td>\n",
       "      <td>False</td>\n",
       "      <td>A0A021WW32</td>\n",
       "      <td>A0A021WW32</td>\n",
       "      <td>vtd</td>\n",
       "      <td>vtd</td>\n",
       "    </tr>\n",
       "    <tr>\n",
       "      <th>2</th>\n",
       "      <td>A0A021WW32:A1Z8S6</td>\n",
       "      <td>7227</td>\n",
       "      <td>BioGrid</td>\n",
       "      <td>25588834:0004:LC:co-complex</td>\n",
       "      <td>{25588834}</td>\n",
       "      <td>False</td>\n",
       "      <td>False</td>\n",
       "      <td>False</td>\n",
       "      <td>True</td>\n",
       "      <td>0</td>\n",
       "      <td>1</td>\n",
       "      <td>False</td>\n",
       "      <td>False</td>\n",
       "      <td>A0A021WW32</td>\n",
       "      <td>A1Z8S6</td>\n",
       "      <td>vtd</td>\n",
       "      <td>pds5</td>\n",
       "    </tr>\n",
       "    <tr>\n",
       "      <th>3</th>\n",
       "      <td>A0A021WW32:D6W4X5</td>\n",
       "      <td>7227</td>\n",
       "      <td>IntAct</td>\n",
       "      <td>37061542:0397:LC:binary|37061542:1112:LC:binary</td>\n",
       "      <td>{37061542}</td>\n",
       "      <td>False</td>\n",
       "      <td>False</td>\n",
       "      <td>True</td>\n",
       "      <td>False</td>\n",
       "      <td>1</td>\n",
       "      <td>0</td>\n",
       "      <td>False</td>\n",
       "      <td>False</td>\n",
       "      <td>A0A021WW32</td>\n",
       "      <td>D6W4X5</td>\n",
       "      <td>vtd</td>\n",
       "      <td>CG15250-RA</td>\n",
       "    </tr>\n",
       "    <tr>\n",
       "      <th>4</th>\n",
       "      <td>A0A021WW32:P05205</td>\n",
       "      <td>7227</td>\n",
       "      <td>BioGrid</td>\n",
       "      <td>24990964:0004:LC:co-complex</td>\n",
       "      <td>{24990964}</td>\n",
       "      <td>False</td>\n",
       "      <td>False</td>\n",
       "      <td>False</td>\n",
       "      <td>True</td>\n",
       "      <td>0</td>\n",
       "      <td>1</td>\n",
       "      <td>False</td>\n",
       "      <td>False</td>\n",
       "      <td>A0A021WW32</td>\n",
       "      <td>P05205</td>\n",
       "      <td>vtd</td>\n",
       "      <td>Su(var)205</td>\n",
       "    </tr>\n",
       "  </tbody>\n",
       "</table>\n",
       "</div>"
      ],
      "text/plain": [
       "                     ppi     taxa   source  \\\n",
       "0  A0A014C6J9:A0A014C6J9  1310912      PDB   \n",
       "1  A0A021WW32:A0A021WW32     7227  BioGrid   \n",
       "2      A0A021WW32:A1Z8S6     7227  BioGrid   \n",
       "3      A0A021WW32:D6W4X5     7227   IntAct   \n",
       "4      A0A021WW32:P05205     7227  BioGrid   \n",
       "\n",
       "                          pmid:method:quality:type        publ  is_binary_hq  \\\n",
       "0                          29438671:0114:LC:binary  {29438671}          True   \n",
       "1                      27996020:0004:LC:co-complex  {27996020}         False   \n",
       "2                      25588834:0004:LC:co-complex  {25588834}         False   \n",
       "3  37061542:0397:LC:binary|37061542:1112:LC:binary  {37061542}         False   \n",
       "4                      24990964:0004:LC:co-complex  {24990964}         False   \n",
       "\n",
       "   is_cocomp_hq  is_binary  is_cocomp  n_binary_pub  n_cocomp_pub  \\\n",
       "0         False       True      False             1             0   \n",
       "1         False      False       True             0             1   \n",
       "2         False      False       True             0             1   \n",
       "3         False       True      False             1             0   \n",
       "4         False      False       True             0             1   \n",
       "\n",
       "   is_binary_hq_agg  is_cocomp_hq_agg   UniProt_A   UniProt_B     Gene_A  \\\n",
       "0              True             False  A0A014C6J9  A0A014C6J9  J811_1009   \n",
       "1             False             False  A0A021WW32  A0A021WW32        vtd   \n",
       "2             False             False  A0A021WW32      A1Z8S6        vtd   \n",
       "3             False             False  A0A021WW32      D6W4X5        vtd   \n",
       "4             False             False  A0A021WW32      P05205        vtd   \n",
       "\n",
       "       Gene_B  \n",
       "0   J811_1009  \n",
       "1         vtd  \n",
       "2        pds5  \n",
       "3  CG15250-RA  \n",
       "4  Su(var)205  "
      ]
     },
     "execution_count": 258,
     "metadata": {},
     "output_type": "execute_result"
    }
   ],
   "source": [
    "ppi_agg_bincomp.head()"
   ]
  },
  {
   "cell_type": "code",
   "execution_count": 259,
   "id": "d640e999-fc88-4947-97df-b6a744baaf7f",
   "metadata": {},
   "outputs": [
    {
     "data": {
      "text/plain": [
       "True"
      ]
     },
     "execution_count": 259,
     "metadata": {},
     "output_type": "execute_result"
    }
   ],
   "source": [
    "ppi_agg_bincomp.query('is_binary_hq_agg == True')['pmid:method:quality:type'].str.contains('binary').all()"
   ]
  },
  {
   "cell_type": "code",
   "execution_count": 260,
   "id": "ffd955f4-ab30-4f43-bbee-345f35540780",
   "metadata": {},
   "outputs": [
    {
     "data": {
      "text/plain": [
       "True"
      ]
     },
     "execution_count": 260,
     "metadata": {},
     "output_type": "execute_result"
    }
   ],
   "source": [
    "ppi_agg_bincomp.query('is_cocomp_hq_agg == True')['pmid:method:quality:type'].str.contains('complex').all()"
   ]
  },
  {
   "cell_type": "code",
   "execution_count": 261,
   "id": "7ae8b84f-e5e5-4e5d-a9c9-7c82a5d03759",
   "metadata": {},
   "outputs": [],
   "source": [
    "# HINT format with selected columns\n",
    "cols = [\"Uniprot_A\", \"Uniprot_B\", \"Gene_A\", \"Gene_B\", \"pmid:method:quality:type\", \"taxid\", \"high_quality_binary\", 'high_quality_cocomp']\n",
    "\n",
    "ppi_output = ppi_agg_bincomp.rename(columns={'UniProt_A': 'Uniprot_A', 'UniProt_B': 'Uniprot_B', 'taxa': 'taxid', \n",
    "                                             'is_binary_hq_agg': 'high_quality_binary', \n",
    "                                             'is_cocomp_hq_agg': 'high_quality_cocomp'}).sort_values(cols)"
   ]
  },
  {
   "cell_type": "code",
   "execution_count": 262,
   "id": "f928d2fa-5652-4759-b570-b772f1d33a1d",
   "metadata": {},
   "outputs": [
    {
     "data": {
      "text/html": [
       "<div>\n",
       "<style scoped>\n",
       "    .dataframe tbody tr th:only-of-type {\n",
       "        vertical-align: middle;\n",
       "    }\n",
       "\n",
       "    .dataframe tbody tr th {\n",
       "        vertical-align: top;\n",
       "    }\n",
       "\n",
       "    .dataframe thead th {\n",
       "        text-align: right;\n",
       "    }\n",
       "</style>\n",
       "<table border=\"1\" class=\"dataframe\">\n",
       "  <thead>\n",
       "    <tr style=\"text-align: right;\">\n",
       "      <th></th>\n",
       "      <th>Uniprot_A</th>\n",
       "      <th>Uniprot_B</th>\n",
       "      <th>Gene_A</th>\n",
       "      <th>Gene_B</th>\n",
       "      <th>pmid:method:quality:type</th>\n",
       "      <th>taxid</th>\n",
       "      <th>high_quality_binary</th>\n",
       "      <th>high_quality_cocomp</th>\n",
       "    </tr>\n",
       "  </thead>\n",
       "  <tbody>\n",
       "    <tr>\n",
       "      <th>0</th>\n",
       "      <td>A0A014C6J9</td>\n",
       "      <td>A0A014C6J9</td>\n",
       "      <td>J811_1009</td>\n",
       "      <td>J811_1009</td>\n",
       "      <td>29438671:0114:LC:binary</td>\n",
       "      <td>1310912</td>\n",
       "      <td>True</td>\n",
       "      <td>False</td>\n",
       "    </tr>\n",
       "    <tr>\n",
       "      <th>1</th>\n",
       "      <td>A0A021WW32</td>\n",
       "      <td>A0A021WW32</td>\n",
       "      <td>vtd</td>\n",
       "      <td>vtd</td>\n",
       "      <td>27996020:0004:LC:co-complex</td>\n",
       "      <td>7227</td>\n",
       "      <td>False</td>\n",
       "      <td>False</td>\n",
       "    </tr>\n",
       "    <tr>\n",
       "      <th>2</th>\n",
       "      <td>A0A021WW32</td>\n",
       "      <td>A1Z8S6</td>\n",
       "      <td>vtd</td>\n",
       "      <td>pds5</td>\n",
       "      <td>25588834:0004:LC:co-complex</td>\n",
       "      <td>7227</td>\n",
       "      <td>False</td>\n",
       "      <td>False</td>\n",
       "    </tr>\n",
       "    <tr>\n",
       "      <th>3</th>\n",
       "      <td>A0A021WW32</td>\n",
       "      <td>D6W4X5</td>\n",
       "      <td>vtd</td>\n",
       "      <td>CG15250-RA</td>\n",
       "      <td>37061542:0397:LC:binary|37061542:1112:LC:binary</td>\n",
       "      <td>7227</td>\n",
       "      <td>False</td>\n",
       "      <td>False</td>\n",
       "    </tr>\n",
       "    <tr>\n",
       "      <th>4</th>\n",
       "      <td>A0A021WW32</td>\n",
       "      <td>P05205</td>\n",
       "      <td>vtd</td>\n",
       "      <td>Su(var)205</td>\n",
       "      <td>24990964:0004:LC:co-complex</td>\n",
       "      <td>7227</td>\n",
       "      <td>False</td>\n",
       "      <td>False</td>\n",
       "    </tr>\n",
       "  </tbody>\n",
       "</table>\n",
       "</div>"
      ],
      "text/plain": [
       "    Uniprot_A   Uniprot_B     Gene_A      Gene_B  \\\n",
       "0  A0A014C6J9  A0A014C6J9  J811_1009   J811_1009   \n",
       "1  A0A021WW32  A0A021WW32        vtd         vtd   \n",
       "2  A0A021WW32      A1Z8S6        vtd        pds5   \n",
       "3  A0A021WW32      D6W4X5        vtd  CG15250-RA   \n",
       "4  A0A021WW32      P05205        vtd  Su(var)205   \n",
       "\n",
       "                          pmid:method:quality:type    taxid  \\\n",
       "0                          29438671:0114:LC:binary  1310912   \n",
       "1                      27996020:0004:LC:co-complex     7227   \n",
       "2                      25588834:0004:LC:co-complex     7227   \n",
       "3  37061542:0397:LC:binary|37061542:1112:LC:binary     7227   \n",
       "4                      24990964:0004:LC:co-complex     7227   \n",
       "\n",
       "   high_quality_binary  high_quality_cocomp  \n",
       "0                 True                False  \n",
       "1                False                False  \n",
       "2                False                False  \n",
       "3                False                False  \n",
       "4                False                False  "
      ]
     },
     "execution_count": 262,
     "metadata": {},
     "output_type": "execute_result"
    }
   ],
   "source": [
    "ppi_output.head()[cols]"
   ]
  },
  {
   "cell_type": "code",
   "execution_count": null,
   "id": "3ae9c06e-ca88-45bd-bf88-af2fad85646c",
   "metadata": {},
   "outputs": [],
   "source": []
  },
  {
   "cell_type": "markdown",
   "id": "fb7c7642-94b3-4b88-a3be-c28dbcb4a8eb",
   "metadata": {},
   "source": [
    "**[Update 2024-06-01]: fix bug for high-quality filtering**"
   ]
  },
  {
   "cell_type": "code",
   "execution_count": 263,
   "id": "5ba89acb-0e08-43db-aa61-b96a9965f439",
   "metadata": {},
   "outputs": [
    {
     "data": {
      "text/html": [
       "<div>\n",
       "<style scoped>\n",
       "    .dataframe tbody tr th:only-of-type {\n",
       "        vertical-align: middle;\n",
       "    }\n",
       "\n",
       "    .dataframe tbody tr th {\n",
       "        vertical-align: top;\n",
       "    }\n",
       "\n",
       "    .dataframe thead th {\n",
       "        text-align: right;\n",
       "    }\n",
       "</style>\n",
       "<table border=\"1\" class=\"dataframe\">\n",
       "  <thead>\n",
       "    <tr style=\"text-align: right;\">\n",
       "      <th></th>\n",
       "      <th>ppi</th>\n",
       "      <th>taxid</th>\n",
       "      <th>source</th>\n",
       "      <th>pmid:method:quality:type</th>\n",
       "      <th>publ</th>\n",
       "      <th>is_binary_hq</th>\n",
       "      <th>is_cocomp_hq</th>\n",
       "      <th>is_binary</th>\n",
       "      <th>is_cocomp</th>\n",
       "      <th>n_binary_pub</th>\n",
       "      <th>n_cocomp_pub</th>\n",
       "      <th>high_quality_binary</th>\n",
       "      <th>high_quality_cocomp</th>\n",
       "      <th>Uniprot_A</th>\n",
       "      <th>Uniprot_B</th>\n",
       "      <th>Gene_A</th>\n",
       "      <th>Gene_B</th>\n",
       "    </tr>\n",
       "  </thead>\n",
       "  <tbody>\n",
       "  </tbody>\n",
       "</table>\n",
       "</div>"
      ],
      "text/plain": [
       "Empty DataFrame\n",
       "Columns: [ppi, taxid, source, pmid:method:quality:type, publ, is_binary_hq, is_cocomp_hq, is_binary, is_cocomp, n_binary_pub, n_cocomp_pub, high_quality_binary, high_quality_cocomp, Uniprot_A, Uniprot_B, Gene_A, Gene_B]\n",
       "Index: []"
      ]
     },
     "execution_count": 263,
     "metadata": {},
     "output_type": "execute_result"
    }
   ],
   "source": [
    "ppi_output.query('is_binary == True & is_cocomp == False  & high_quality_cocomp')"
   ]
  },
  {
   "cell_type": "code",
   "execution_count": 264,
   "id": "716cbb11-c159-46ef-af87-264a9b6b554b",
   "metadata": {},
   "outputs": [
    {
     "data": {
      "text/html": [
       "<div>\n",
       "<style scoped>\n",
       "    .dataframe tbody tr th:only-of-type {\n",
       "        vertical-align: middle;\n",
       "    }\n",
       "\n",
       "    .dataframe tbody tr th {\n",
       "        vertical-align: top;\n",
       "    }\n",
       "\n",
       "    .dataframe thead th {\n",
       "        text-align: right;\n",
       "    }\n",
       "</style>\n",
       "<table border=\"1\" class=\"dataframe\">\n",
       "  <thead>\n",
       "    <tr style=\"text-align: right;\">\n",
       "      <th></th>\n",
       "      <th>Uniprot_A</th>\n",
       "      <th>Uniprot_B</th>\n",
       "      <th>Gene_A</th>\n",
       "      <th>Gene_B</th>\n",
       "      <th>pmid:method:quality:type</th>\n",
       "      <th>taxid</th>\n",
       "      <th>high_quality_binary</th>\n",
       "      <th>high_quality_cocomp</th>\n",
       "      <th>is_binary</th>\n",
       "      <th>is_cocomp</th>\n",
       "    </tr>\n",
       "  </thead>\n",
       "  <tbody>\n",
       "    <tr>\n",
       "      <th>count</th>\n",
       "      <td>575588</td>\n",
       "      <td>575588</td>\n",
       "      <td>570423</td>\n",
       "      <td>571231</td>\n",
       "      <td>575588</td>\n",
       "      <td>575588</td>\n",
       "      <td>575588</td>\n",
       "      <td>575588</td>\n",
       "      <td>575588</td>\n",
       "      <td>575588</td>\n",
       "    </tr>\n",
       "    <tr>\n",
       "      <th>unique</th>\n",
       "      <td>65312</td>\n",
       "      <td>68264</td>\n",
       "      <td>50106</td>\n",
       "      <td>52716</td>\n",
       "      <td>81165</td>\n",
       "      <td>3654</td>\n",
       "      <td>2</td>\n",
       "      <td>2</td>\n",
       "      <td>2</td>\n",
       "      <td>2</td>\n",
       "    </tr>\n",
       "    <tr>\n",
       "      <th>top</th>\n",
       "      <td>P11484</td>\n",
       "      <td>Q69YN4</td>\n",
       "      <td>SSB1</td>\n",
       "      <td>VIRMA</td>\n",
       "      <td>32296183:0018:HT:binary|32296183:0397:HT:binar...</td>\n",
       "      <td>9606</td>\n",
       "      <td>True</td>\n",
       "      <td>True</td>\n",
       "      <td>True</td>\n",
       "      <td>True</td>\n",
       "    </tr>\n",
       "    <tr>\n",
       "      <th>freq</th>\n",
       "      <td>3301</td>\n",
       "      <td>1474</td>\n",
       "      <td>3302</td>\n",
       "      <td>1476</td>\n",
       "      <td>29373</td>\n",
       "      <td>336217</td>\n",
       "      <td>306100</td>\n",
       "      <td>299103</td>\n",
       "      <td>394008</td>\n",
       "      <td>310777</td>\n",
       "    </tr>\n",
       "  </tbody>\n",
       "</table>\n",
       "</div>"
      ],
      "text/plain": [
       "       Uniprot_A Uniprot_B  Gene_A  Gene_B  \\\n",
       "count     575588    575588  570423  571231   \n",
       "unique     65312     68264   50106   52716   \n",
       "top       P11484    Q69YN4    SSB1   VIRMA   \n",
       "freq        3301      1474    3302    1476   \n",
       "\n",
       "                                 pmid:method:quality:type   taxid  \\\n",
       "count                                              575588  575588   \n",
       "unique                                              81165    3654   \n",
       "top     32296183:0018:HT:binary|32296183:0397:HT:binar...    9606   \n",
       "freq                                                29373  336217   \n",
       "\n",
       "       high_quality_binary high_quality_cocomp is_binary is_cocomp  \n",
       "count               575588              575588    575588    575588  \n",
       "unique                   2                   2         2         2  \n",
       "top                   True                True      True      True  \n",
       "freq                306100              299103    394008    310777  "
      ]
     },
     "execution_count": 264,
     "metadata": {},
     "output_type": "execute_result"
    }
   ],
   "source": [
    "ppi_output.query('high_quality_binary == True | high_quality_cocomp == True')[cols + ['is_binary', 'is_cocomp']].describe()"
   ]
  },
  {
   "cell_type": "code",
   "execution_count": 265,
   "id": "406efa63-9ae8-4af5-96b8-e38f232e95bc",
   "metadata": {},
   "outputs": [],
   "source": [
    "def update_evidence(ev_string, keyword, sep='|'):\n",
    "    parts = ev_string.split('|')\n",
    "    udpate_parts = []\n",
    "    for p in parts:\n",
    "        if keyword in p:\n",
    "            udpate_parts.append(p)\n",
    "    return '|'.join(udpate_parts)"
   ]
  },
  {
   "cell_type": "code",
   "execution_count": 266,
   "id": "fa49274f-e323-4b84-82da-01994c071826",
   "metadata": {},
   "outputs": [],
   "source": [
    "ppi_output_binary = ppi_output.query('is_binary == True')[cols].drop('high_quality_cocomp', axis=1).rename(columns={'high_quality_binary': 'high_quality'}).reset_index(drop=True)\n",
    "ppi_output_binary['pmid:method:quality:type'] = ppi_output_binary['pmid:method:quality:type'].apply(lambda x: update_evidence(x, 'binary'))\n",
    "\n",
    "ppi_output_cocomp = ppi_output.query('is_cocomp == True')[cols].drop('high_quality_binary', axis=1).rename(columns={'high_quality_cocomp': 'high_quality'}).reset_index(drop=True)\n",
    "ppi_output_cocomp['pmid:method:quality:type'] = ppi_output_cocomp['pmid:method:quality:type'].apply(lambda x: update_evidence(x, 'co-complex'))"
   ]
  },
  {
   "cell_type": "code",
   "execution_count": 268,
   "id": "54e24472-0c47-46c3-85a9-525fb95d57fe",
   "metadata": {},
   "outputs": [],
   "source": [
    "ppi_output[cols].to_csv(hint_output_root / 'both_all.txt', index=False, sep='\\t')\n",
    "# ppi_output.query('is_binary == True')[cols].to_csv(hint_output_root / 'binary_all.txt', index=False, sep='\\t')\n",
    "# ppi_output.query('is_cocomp == True')[cols].to_csv(hint_output_root / 'cocomp_all.txt', index=False, sep='\\t')\n",
    "ppi_output_binary.to_csv(hint_output_root / 'binary_all.txt', index=False, sep='\\t')\n",
    "ppi_output_cocomp.to_csv(hint_output_root / 'cocomp_all.txt', index=False, sep='\\t')\n",
    "# ppi_output.query('high_quality == True')[cols].to_csv(hint_output_root / 'both_hq.txt', index=False, sep='\\t')"
   ]
  },
  {
   "cell_type": "code",
   "execution_count": 269,
   "id": "c0d6d661-fe55-45ef-b3ce-f418e6bcf91b",
   "metadata": {},
   "outputs": [],
   "source": [
    "ppi_output.query('high_quality_binary == True | high_quality_cocomp == True')[cols].to_csv(hint_output_root / 'both_hq.txt', index=False, sep='\\t')"
   ]
  },
  {
   "cell_type": "code",
   "execution_count": 270,
   "id": "1d3fe1e5-ce30-439f-8bfe-a86c142b9410",
   "metadata": {},
   "outputs": [],
   "source": [
    "ppi_output_binary.query('high_quality == True').to_csv(hint_output_root / 'binary_hq.txt', index=False, sep='\\t')\n",
    "ppi_output_cocomp.query('high_quality == True').to_csv(hint_output_root / 'cocomp_hq.txt', index=False, sep='\\t')"
   ]
  },
  {
   "cell_type": "markdown",
   "id": "1e505ff0-61ab-4b4c-b905-26a407e23d41",
   "metadata": {},
   "source": [
    "#### HINT format interactome by species"
   ]
  },
  {
   "cell_type": "markdown",
   "id": "35f33170-4dc2-4ad3-a349-1d9dd01a016a",
   "metadata": {},
   "source": [
    "* Load species supporting documents"
   ]
  },
  {
   "cell_type": "code",
   "execution_count": 271,
   "id": "2808ab82-aa11-47a6-8a9c-17003ab423af",
   "metadata": {},
   "outputs": [],
   "source": [
    "df_species = pd.read_csv(source_root / 'docs/cache/species_parsed.txt', sep='\\t')\n",
    "with open(output_root / 'cache/taxa_map_dict.json', 'r') as f:\n",
    "    taxa_map_dict = json.load(f)"
   ]
  },
  {
   "cell_type": "code",
   "execution_count": 272,
   "id": "18bbd233-d465-4160-9c11-78aee7ee0589",
   "metadata": {},
   "outputs": [],
   "source": [
    "# Rule-based curation (consider to revise later)\n",
    "df_species['scientific_name_short'] = df_species['scientific_name'].apply(lambda x: x.split('(')[0].strip())\n",
    "ecoli_idx = df_species['scientific_name'].str.startswith('Escherichia coli')  # manual rule for E Coli\n",
    "df_species.loc[ecoli_idx, 'scientific_name_short'] = 'Escherichia coli'\n",
    "\n",
    "rice_idx = df_species['common_name'] == 'Rice' # manual rule for Rice\n",
    "df_species.loc[rice_idx, 'scientific_name_short'] = 'Oryza sativa'"
   ]
  },
  {
   "cell_type": "code",
   "execution_count": 273,
   "id": "5d683669-4b54-4d68-a2e1-6c092b923b50",
   "metadata": {},
   "outputs": [],
   "source": [
    "df_species['taxa'] = df_species['taxa'].astype(str)\n",
    "df_species[['taxa', 'scientific_name_short']].drop_duplicates().sort_values('taxa').to_csv(output_root / 'taxid2name_short.txt', index=False, sep='\\t')"
   ]
  },
  {
   "cell_type": "markdown",
   "id": "f9b5bbf9-bb1e-4309-a128-ce5f0f8f235e",
   "metadata": {},
   "source": [
    "* Target species\n",
    "\n",
    "Create separated directory for each species using species name (Pascal case naming rule, remove space and capitalize the first letter for each word)"
   ]
  },
  {
   "cell_type": "code",
   "execution_count": 274,
   "id": "3454b646-f8a1-4929-be13-e09b08829991",
   "metadata": {},
   "outputs": [],
   "source": [
    "target_species = ['Homo sapiens',\n",
    "                  'Saccharomyces cerevisiae',\n",
    "                  'Caenorhabditis elegans',\n",
    "                  'Arabidopsis thaliana',\n",
    "                  'Mus musculus',\n",
    "                  'Escherichia coli',\n",
    "                  'Rattus norvegicus',\n",
    "                  'Oryza sativa',\n",
    "                  'Schizosaccharomyces pombe',\n",
    "                  'Drosophila melanogaster']\n",
    "target_species = [s.lower() for s in target_species]"
   ]
  },
  {
   "cell_type": "code",
   "execution_count": 275,
   "id": "989d0f76-2b47-445c-90f3-ac11157f03e0",
   "metadata": {},
   "outputs": [],
   "source": [
    "df_spe_target = df_species[df_species['scientific_name_short'].str.lower().isin(target_species)].reset_index(drop=True)\n",
    "df_spe_target = df_spe_target.groupby('scientific_name_short').agg({'taxa': list}).reset_index()\n",
    "select_name2id = dict(zip(df_spe_target['scientific_name_short'], df_spe_target['taxa']))"
   ]
  },
  {
   "cell_type": "code",
   "execution_count": 276,
   "id": "069358e2-a653-4266-a954-25c069f53c24",
   "metadata": {},
   "outputs": [],
   "source": [
    "with open(output_root / 'select_species2id.json', 'w') as f:\n",
    "    json.dump(select_name2id, f, indent=2)"
   ]
  },
  {
   "cell_type": "code",
   "execution_count": 277,
   "id": "09fadd5d-0dca-4a5d-8dc2-e9efd4fcf3af",
   "metadata": {},
   "outputs": [],
   "source": [
    "flist = list(hint_output_root.glob('*txt'))\n",
    "\n",
    "for fpath in flist:\n",
    "    if fpath.name.startswith('protein_meta'):  # skip protein description file\n",
    "        continue\n",
    "    df = pd.read_csv(fpath, sep='\\t', dtype=str)\n",
    "    suffix = fpath.name\n",
    "    \n",
    "    for species, taxa_list in select_name2id.items():\n",
    "        species_tag = re.sub(' ', '', species.title()) \n",
    "        out_dir = hint_output_root / 'taxa' / species_tag\n",
    "        if not(out_dir).exists():\n",
    "            out_dir.mkdir(parents=True)\n",
    "        out_fpath = out_dir / f'{species_tag}_{suffix}'\n",
    "        \n",
    "        df_cur = df[df['taxid'].isin(taxa_list)]\n",
    "        if len(df_cur):\n",
    "            df_cur.to_csv(out_fpath, sep='\\t', index=False)\n",
    "        "
   ]
  },
  {
   "cell_type": "code",
   "execution_count": null,
   "id": "7756843a-a0d2-42cf-9731-54286e63e152",
   "metadata": {},
   "outputs": [],
   "source": []
  },
  {
   "cell_type": "markdown",
   "id": "1f29c6e6-b4e2-411c-8c78-bab3206b01f8",
   "metadata": {},
   "source": [
    "### Generate protein meta data\n",
    "\n",
    "Goal: fetch protein name and description that match UniProt IDs in each interaction \n",
    "\n",
    "(in curated interactome data, some protein name & description don't match the displayed UniProt ID because we selected the **best** UniProt ID by gene)"
   ]
  },
  {
   "cell_type": "code",
   "execution_count": 278,
   "id": "b45b2a58-ba29-400e-99bb-c7f16a068376",
   "metadata": {},
   "outputs": [],
   "source": [
    "to_best_uprot = pd.read_csv(output_root / 'cache/id_to_best_uprot_uniq.txt', sep='\\t', dtype={'id': str, 'taxa': str})\n",
    "prot_desc = pd.read_csv(output_root / 'cache/uniprot_descriptions.txt', sep='\\t', dtype=str)"
   ]
  },
  {
   "cell_type": "code",
   "execution_count": 279,
   "id": "63de10e0-556d-4806-978e-ba382cf96f32",
   "metadata": {},
   "outputs": [],
   "source": [
    "meta_cols = ['best_uprot_full', 'taxa', 'gene_name_fil']\n",
    "prot_meta = to_best_uprot[meta_cols].rename(columns={'best_uprot_full': 'uniprot', 'gene_name_fil': 'gene'}).astype({'taxa': str}).drop_duplicates().reset_index(drop=True)\n",
    "prot_meta['primary_short'] = prot_meta['uniprot'].apply(lambda x: x.split('-')[0])"
   ]
  },
  {
   "cell_type": "code",
   "execution_count": 280,
   "id": "6805512f-57fd-4f58-b65f-6a5eae65c5ab",
   "metadata": {},
   "outputs": [],
   "source": [
    "# Load taxa ID supporting document\n",
    "with open(output_root / 'cache/taxa_map_dict.json') as f:\n",
    "    taxa_map_dict = json.load(f)"
   ]
  },
  {
   "cell_type": "code",
   "execution_count": 281,
   "id": "e9f2c516-4432-4817-bc9e-a62d5f19459f",
   "metadata": {},
   "outputs": [],
   "source": [
    "# curate taxonomy ID\n",
    "prot_desc['taxa'] = prot_desc['taxa'].astype(str).apply(lambda x: taxa_map_dict.get(x, str(x)))"
   ]
  },
  {
   "cell_type": "code",
   "execution_count": 282,
   "id": "32c9f322-b3cf-46f9-ac2f-90fb61a59e66",
   "metadata": {},
   "outputs": [],
   "source": [
    "# Merge information\n",
    "prot_meta_complete = prot_meta.merge(prot_desc[['UniProt', 'name', 'taxa', 'description', 'tag']].rename(columns={'UniProt': 'primary_short'}))\n",
    "prot_meta_complete['is_reviewed'] = (prot_meta_complete['tag'] == 'sp')"
   ]
  },
  {
   "cell_type": "code",
   "execution_count": 283,
   "id": "3e41b2f7-b5b8-4e87-9a84-273d255b5df6",
   "metadata": {},
   "outputs": [],
   "source": [
    "# save protein meta to file\n",
    "prot_meta_complete.sort_values(['uniprot']).drop('tag', axis=1).to_csv(output_root / 'HINT_format/protein_meta.txt', index=False, sep='\\t')"
   ]
  },
  {
   "cell_type": "code",
   "execution_count": null,
   "id": "8df60be2-05a0-4f77-b009-69ed755f1d31",
   "metadata": {},
   "outputs": [
    {
     "data": {
      "text/plain": [
       "27"
      ]
     },
     "execution_count": 290,
     "metadata": {},
     "output_type": "execute_result"
    }
   ],
   "source": [
    "len(special_cases['binary_blacklist_forced_cocomplex'])"
   ]
  },
  {
   "cell_type": "code",
   "execution_count": null,
   "id": "16059c07-e206-4118-a899-eb1f9534c4ff",
   "metadata": {},
   "outputs": [
    {
     "data": {
      "text/plain": [
       "{'23667531',\n",
       " '25959826',\n",
       " '26686862',\n",
       " '26739451',\n",
       " '26949739',\n",
       " '28514442',\n",
       " '29476059',\n",
       " '29858488',\n",
       " '29961565',\n",
       " '30091672',\n",
       " '30097533',\n",
       " '30300385',\n",
       " '30698747',\n",
       " '30886144',\n",
       " '31046837',\n",
       " '31308550',\n",
       " '31388001',\n",
       " '31391242',\n",
       " '31402609',\n",
       " '31413325',\n",
       " '31536960',\n",
       " '31616248',\n",
       " '31980649',\n",
       " '32357304',\n",
       " '32552912',\n",
       " '32774160',\n",
       " '32900848'}"
      ]
     },
     "execution_count": 291,
     "metadata": {},
     "output_type": "execute_result"
    }
   ],
   "source": [
    "special_cases['binary_blacklist_forced_cocomplex']"
   ]
  },
  {
   "cell_type": "code",
   "execution_count": null,
   "id": "a2b6b1f0-e4d2-4718-b17c-b82720df1c16",
   "metadata": {},
   "outputs": [],
   "source": []
  }
 ],
 "metadata": {
  "kernelspec": {
   "display_name": "Python 3 (ipykernel)",
   "language": "python",
   "name": "python3"
  },
  "language_info": {
   "codemirror_mode": {
    "name": "ipython",
    "version": 3
   },
   "file_extension": ".py",
   "mimetype": "text/x-python",
   "name": "python",
   "nbconvert_exporter": "python",
   "pygments_lexer": "ipython3",
   "version": "3.8.8"
  }
 },
 "nbformat": 4,
 "nbformat_minor": 5
}
